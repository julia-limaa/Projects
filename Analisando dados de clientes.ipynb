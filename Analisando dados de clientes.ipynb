{
 "cells": [
  {
   "cell_type": "markdown",
   "id": "dda66f6b",
   "metadata": {},
   "source": [
    "# Analisando dados de clientes"
   ]
  },
  {
   "cell_type": "code",
   "execution_count": 1,
   "id": "a610db09",
   "metadata": {},
   "outputs": [],
   "source": [
    "import pandas as pd # para importar os csv's como um DataFrame e poder manipulá-los\n",
    "import seaborn as srn # para realização de alguns gráficos\n",
    "import matplotlib.pyplot as plt # para realização de alguns gráficos"
   ]
  },
  {
   "cell_type": "markdown",
   "id": "d0700604",
   "metadata": {},
   "source": [
    "### Etapa 1: Importar os dados, visualizar e checar se há algum problema com eles"
   ]
  },
  {
   "cell_type": "code",
   "execution_count": 2,
   "id": "62651111",
   "metadata": {},
   "outputs": [],
   "source": [
    "df_clientes = pd.read_csv(\"base_clientes (1) (1).csv\", sep = \"\\t\")\n",
    "df_redesocial = pd.read_csv(\"base_redesocial (1).csv\")\n",
    "df_transacoes = pd.read_csv(\"base_transacoes (1) (1).csv\", sep = \";\")"
   ]
  },
  {
   "cell_type": "markdown",
   "id": "5bb2db53",
   "metadata": {},
   "source": [
    "* Quantas linhas e colunas há em cada DataFrame?"
   ]
  },
  {
   "cell_type": "code",
   "execution_count": 3,
   "id": "9d4fd642",
   "metadata": {},
   "outputs": [
    {
     "data": {
      "text/plain": [
       "(661, 7)"
      ]
     },
     "execution_count": 3,
     "metadata": {},
     "output_type": "execute_result"
    }
   ],
   "source": [
    "df_clientes.shape"
   ]
  },
  {
   "cell_type": "code",
   "execution_count": 4,
   "id": "33e65cc4",
   "metadata": {},
   "outputs": [
    {
     "data": {
      "text/plain": [
       "(2454, 3)"
      ]
     },
     "execution_count": 4,
     "metadata": {},
     "output_type": "execute_result"
    }
   ],
   "source": [
    "df_redesocial.shape"
   ]
  },
  {
   "cell_type": "code",
   "execution_count": 5,
   "id": "5d5d4984",
   "metadata": {},
   "outputs": [
    {
     "data": {
      "text/plain": [
       "(5231, 7)"
      ]
     },
     "execution_count": 5,
     "metadata": {},
     "output_type": "execute_result"
    }
   ],
   "source": [
    "df_transacoes.shape"
   ]
  },
  {
   "cell_type": "markdown",
   "id": "dd1ab097",
   "metadata": {},
   "source": [
    "* Visualizando as 5 primeiras linhas de cada df"
   ]
  },
  {
   "cell_type": "code",
   "execution_count": 6,
   "id": "c84a8ed2",
   "metadata": {},
   "outputs": [
    {
     "data": {
      "text/html": [
       "<div>\n",
       "<style scoped>\n",
       "    .dataframe tbody tr th:only-of-type {\n",
       "        vertical-align: middle;\n",
       "    }\n",
       "\n",
       "    .dataframe tbody tr th {\n",
       "        vertical-align: top;\n",
       "    }\n",
       "\n",
       "    .dataframe thead th {\n",
       "        text-align: right;\n",
       "    }\n",
       "</style>\n",
       "<table border=\"1\" class=\"dataframe\">\n",
       "  <thead>\n",
       "    <tr style=\"text-align: right;\">\n",
       "      <th></th>\n",
       "      <th>cpf</th>\n",
       "      <th>nome</th>\n",
       "      <th>sexo</th>\n",
       "      <th>idade</th>\n",
       "      <th>renda</th>\n",
       "      <th>estado</th>\n",
       "      <th>email</th>\n",
       "    </tr>\n",
       "  </thead>\n",
       "  <tbody>\n",
       "    <tr>\n",
       "      <th>0</th>\n",
       "      <td>755077935</td>\n",
       "      <td>WELINTOM</td>\n",
       "      <td>masculino</td>\n",
       "      <td>30</td>\n",
       "      <td>14915</td>\n",
       "      <td>RS</td>\n",
       "      <td>welintom3@hotmail.com</td>\n",
       "    </tr>\n",
       "    <tr>\n",
       "      <th>1</th>\n",
       "      <td>338048902</td>\n",
       "      <td>CLEIDIOMAR</td>\n",
       "      <td>masculino</td>\n",
       "      <td>28</td>\n",
       "      <td>18322</td>\n",
       "      <td>SP</td>\n",
       "      <td>cleidiomar5@hotmail.com</td>\n",
       "    </tr>\n",
       "    <tr>\n",
       "      <th>2</th>\n",
       "      <td>7471498</td>\n",
       "      <td>AMANDIO</td>\n",
       "      <td>masculino</td>\n",
       "      <td>43</td>\n",
       "      <td>10177</td>\n",
       "      <td>TO</td>\n",
       "      <td>amandio8@hotmail.com</td>\n",
       "    </tr>\n",
       "    <tr>\n",
       "      <th>3</th>\n",
       "      <td>777780623</td>\n",
       "      <td>DECIVALDO</td>\n",
       "      <td>masculino</td>\n",
       "      <td>38</td>\n",
       "      <td>35864</td>\n",
       "      <td>RJ</td>\n",
       "      <td>decivaldo5@hotmail.com</td>\n",
       "    </tr>\n",
       "    <tr>\n",
       "      <th>4</th>\n",
       "      <td>574079717</td>\n",
       "      <td>GERALD</td>\n",
       "      <td>masculino</td>\n",
       "      <td>46</td>\n",
       "      <td>35234</td>\n",
       "      <td>MG</td>\n",
       "      <td>gerald5@hotmail.com</td>\n",
       "    </tr>\n",
       "  </tbody>\n",
       "</table>\n",
       "</div>"
      ],
      "text/plain": [
       "         cpf        nome       sexo  idade  renda estado  \\\n",
       "0  755077935    WELINTOM  masculino     30  14915     RS   \n",
       "1  338048902  CLEIDIOMAR  masculino     28  18322     SP   \n",
       "2    7471498     AMANDIO  masculino     43  10177     TO   \n",
       "3  777780623   DECIVALDO  masculino     38  35864     RJ   \n",
       "4  574079717      GERALD  masculino     46  35234     MG   \n",
       "\n",
       "                     email  \n",
       "0    welintom3@hotmail.com  \n",
       "1  cleidiomar5@hotmail.com  \n",
       "2     amandio8@hotmail.com  \n",
       "3   decivaldo5@hotmail.com  \n",
       "4      gerald5@hotmail.com  "
      ]
     },
     "execution_count": 6,
     "metadata": {},
     "output_type": "execute_result"
    }
   ],
   "source": [
    "df_clientes.head()"
   ]
  },
  {
   "cell_type": "code",
   "execution_count": 7,
   "id": "893c0459",
   "metadata": {},
   "outputs": [
    {
     "data": {
      "text/html": [
       "<div>\n",
       "<style scoped>\n",
       "    .dataframe tbody tr th:only-of-type {\n",
       "        vertical-align: middle;\n",
       "    }\n",
       "\n",
       "    .dataframe tbody tr th {\n",
       "        vertical-align: top;\n",
       "    }\n",
       "\n",
       "    .dataframe thead th {\n",
       "        text-align: right;\n",
       "    }\n",
       "</style>\n",
       "<table border=\"1\" class=\"dataframe\">\n",
       "  <thead>\n",
       "    <tr style=\"text-align: right;\">\n",
       "      <th></th>\n",
       "      <th>email</th>\n",
       "      <th>pagina</th>\n",
       "      <th>rede_social</th>\n",
       "    </tr>\n",
       "  </thead>\n",
       "  <tbody>\n",
       "    <tr>\n",
       "      <th>0</th>\n",
       "      <td>carmina8@hotmail.com</td>\n",
       "      <td>Kopenhagen</td>\n",
       "      <td>instagram</td>\n",
       "    </tr>\n",
       "    <tr>\n",
       "      <th>1</th>\n",
       "      <td>rute5@hotmail.com</td>\n",
       "      <td>Kopenhagen</td>\n",
       "      <td>facebook</td>\n",
       "    </tr>\n",
       "    <tr>\n",
       "      <th>2</th>\n",
       "      <td>liberaci5@hotmail.com</td>\n",
       "      <td>Kopenhagen</td>\n",
       "      <td>facebook</td>\n",
       "    </tr>\n",
       "    <tr>\n",
       "      <th>3</th>\n",
       "      <td>natlia3@hotmail.com</td>\n",
       "      <td>Uber</td>\n",
       "      <td>instagram</td>\n",
       "    </tr>\n",
       "    <tr>\n",
       "      <th>4</th>\n",
       "      <td>francileni4@hotmail.com</td>\n",
       "      <td>Uber</td>\n",
       "      <td>facebook</td>\n",
       "    </tr>\n",
       "  </tbody>\n",
       "</table>\n",
       "</div>"
      ],
      "text/plain": [
       "                     email      pagina rede_social\n",
       "0     carmina8@hotmail.com  Kopenhagen   instagram\n",
       "1        rute5@hotmail.com  Kopenhagen    facebook\n",
       "2    liberaci5@hotmail.com  Kopenhagen    facebook\n",
       "3      natlia3@hotmail.com        Uber   instagram\n",
       "4  francileni4@hotmail.com        Uber    facebook"
      ]
     },
     "execution_count": 7,
     "metadata": {},
     "output_type": "execute_result"
    }
   ],
   "source": [
    "df_redesocial.head()"
   ]
  },
  {
   "cell_type": "code",
   "execution_count": 8,
   "id": "c62882d7",
   "metadata": {},
   "outputs": [
    {
     "data": {
      "text/html": [
       "<div>\n",
       "<style scoped>\n",
       "    .dataframe tbody tr th:only-of-type {\n",
       "        vertical-align: middle;\n",
       "    }\n",
       "\n",
       "    .dataframe tbody tr th {\n",
       "        vertical-align: top;\n",
       "    }\n",
       "\n",
       "    .dataframe thead th {\n",
       "        text-align: right;\n",
       "    }\n",
       "</style>\n",
       "<table border=\"1\" class=\"dataframe\">\n",
       "  <thead>\n",
       "    <tr style=\"text-align: right;\">\n",
       "      <th></th>\n",
       "      <th>id_tran</th>\n",
       "      <th>cpf</th>\n",
       "      <th>estabelecimento</th>\n",
       "      <th>valor</th>\n",
       "      <th>status</th>\n",
       "      <th>data</th>\n",
       "      <th>Unnamed: 6</th>\n",
       "    </tr>\n",
       "  </thead>\n",
       "  <tbody>\n",
       "    <tr>\n",
       "      <th>0</th>\n",
       "      <td>4137</td>\n",
       "      <td>902446808</td>\n",
       "      <td>cacau show</td>\n",
       "      <td>71</td>\n",
       "      <td>aprovada</td>\n",
       "      <td>Feb-20</td>\n",
       "      <td>NaN</td>\n",
       "    </tr>\n",
       "    <tr>\n",
       "      <th>1</th>\n",
       "      <td>244</td>\n",
       "      <td>264999401</td>\n",
       "      <td>cacau show</td>\n",
       "      <td>488</td>\n",
       "      <td>aprovada</td>\n",
       "      <td>Apr-20</td>\n",
       "      <td>NaN</td>\n",
       "    </tr>\n",
       "    <tr>\n",
       "      <th>2</th>\n",
       "      <td>1815</td>\n",
       "      <td>59310922</td>\n",
       "      <td>cacau show</td>\n",
       "      <td>427</td>\n",
       "      <td>aprovada</td>\n",
       "      <td>May-20</td>\n",
       "      <td>NaN</td>\n",
       "    </tr>\n",
       "    <tr>\n",
       "      <th>3</th>\n",
       "      <td>2142</td>\n",
       "      <td>178025312</td>\n",
       "      <td>cacau show</td>\n",
       "      <td>151</td>\n",
       "      <td>aprovada</td>\n",
       "      <td>Apr-20</td>\n",
       "      <td>NaN</td>\n",
       "    </tr>\n",
       "    <tr>\n",
       "      <th>4</th>\n",
       "      <td>555</td>\n",
       "      <td>693023755</td>\n",
       "      <td>cacau show</td>\n",
       "      <td>670</td>\n",
       "      <td>aprovada</td>\n",
       "      <td>Mar-20</td>\n",
       "      <td>NaN</td>\n",
       "    </tr>\n",
       "  </tbody>\n",
       "</table>\n",
       "</div>"
      ],
      "text/plain": [
       "   id_tran        cpf estabelecimento  valor    status    data  Unnamed: 6\n",
       "0     4137  902446808      cacau show     71  aprovada  Feb-20         NaN\n",
       "1      244  264999401      cacau show    488  aprovada  Apr-20         NaN\n",
       "2     1815   59310922      cacau show    427  aprovada  May-20         NaN\n",
       "3     2142  178025312      cacau show    151  aprovada  Apr-20         NaN\n",
       "4      555  693023755      cacau show    670  aprovada  Mar-20         NaN"
      ]
     },
     "execution_count": 8,
     "metadata": {},
     "output_type": "execute_result"
    }
   ],
   "source": [
    "df_transacoes.head()"
   ]
  },
  {
   "cell_type": "markdown",
   "id": "a151d6c0",
   "metadata": {},
   "source": [
    "* Verificando se há valores NaN"
   ]
  },
  {
   "cell_type": "code",
   "execution_count": 9,
   "id": "44e08a71",
   "metadata": {},
   "outputs": [
    {
     "data": {
      "text/plain": [
       "cpf       0\n",
       "nome      0\n",
       "sexo      0\n",
       "idade     0\n",
       "renda     0\n",
       "estado    0\n",
       "email     0\n",
       "dtype: int64"
      ]
     },
     "execution_count": 9,
     "metadata": {},
     "output_type": "execute_result"
    }
   ],
   "source": [
    "df_clientes.isnull().sum()"
   ]
  },
  {
   "cell_type": "code",
   "execution_count": 10,
   "id": "d9657e7d",
   "metadata": {},
   "outputs": [
    {
     "data": {
      "text/plain": [
       "email          0\n",
       "pagina         0\n",
       "rede_social    0\n",
       "dtype: int64"
      ]
     },
     "execution_count": 10,
     "metadata": {},
     "output_type": "execute_result"
    }
   ],
   "source": [
    "df_redesocial.isnull().sum()"
   ]
  },
  {
   "cell_type": "code",
   "execution_count": 11,
   "id": "a09428a8",
   "metadata": {},
   "outputs": [
    {
     "data": {
      "text/plain": [
       "id_tran               0\n",
       "cpf                   0\n",
       "estabelecimento       0\n",
       "valor                 0\n",
       "status                0\n",
       "data                  0\n",
       "Unnamed: 6         5231\n",
       "dtype: int64"
      ]
     },
     "execution_count": 11,
     "metadata": {},
     "output_type": "execute_result"
    }
   ],
   "source": [
    "df_transacoes.isnull().sum()"
   ]
  },
  {
   "cell_type": "markdown",
   "id": "f1fea886",
   "metadata": {},
   "source": [
    "Observação: essa ultima coluna \"Unnamed:6\" contém 5231 NaN's (todas as linhas do df) pois depois das datas ainda há separadores \";\", então é criada mais uma coluna no DataFrame. O número 6 indica o índice da coluna criada.\n",
    "Como ela não é significativa podemos tirá-la."
   ]
  },
  {
   "cell_type": "code",
   "execution_count": 12,
   "id": "ffc6f237",
   "metadata": {},
   "outputs": [
    {
     "data": {
      "text/html": [
       "<div>\n",
       "<style scoped>\n",
       "    .dataframe tbody tr th:only-of-type {\n",
       "        vertical-align: middle;\n",
       "    }\n",
       "\n",
       "    .dataframe tbody tr th {\n",
       "        vertical-align: top;\n",
       "    }\n",
       "\n",
       "    .dataframe thead th {\n",
       "        text-align: right;\n",
       "    }\n",
       "</style>\n",
       "<table border=\"1\" class=\"dataframe\">\n",
       "  <thead>\n",
       "    <tr style=\"text-align: right;\">\n",
       "      <th></th>\n",
       "      <th>id_tran</th>\n",
       "      <th>cpf</th>\n",
       "      <th>estabelecimento</th>\n",
       "      <th>valor</th>\n",
       "      <th>status</th>\n",
       "      <th>data</th>\n",
       "    </tr>\n",
       "  </thead>\n",
       "  <tbody>\n",
       "    <tr>\n",
       "      <th>0</th>\n",
       "      <td>4137</td>\n",
       "      <td>902446808</td>\n",
       "      <td>cacau show</td>\n",
       "      <td>71</td>\n",
       "      <td>aprovada</td>\n",
       "      <td>Feb-20</td>\n",
       "    </tr>\n",
       "    <tr>\n",
       "      <th>1</th>\n",
       "      <td>244</td>\n",
       "      <td>264999401</td>\n",
       "      <td>cacau show</td>\n",
       "      <td>488</td>\n",
       "      <td>aprovada</td>\n",
       "      <td>Apr-20</td>\n",
       "    </tr>\n",
       "    <tr>\n",
       "      <th>2</th>\n",
       "      <td>1815</td>\n",
       "      <td>59310922</td>\n",
       "      <td>cacau show</td>\n",
       "      <td>427</td>\n",
       "      <td>aprovada</td>\n",
       "      <td>May-20</td>\n",
       "    </tr>\n",
       "    <tr>\n",
       "      <th>3</th>\n",
       "      <td>2142</td>\n",
       "      <td>178025312</td>\n",
       "      <td>cacau show</td>\n",
       "      <td>151</td>\n",
       "      <td>aprovada</td>\n",
       "      <td>Apr-20</td>\n",
       "    </tr>\n",
       "    <tr>\n",
       "      <th>4</th>\n",
       "      <td>555</td>\n",
       "      <td>693023755</td>\n",
       "      <td>cacau show</td>\n",
       "      <td>670</td>\n",
       "      <td>aprovada</td>\n",
       "      <td>Mar-20</td>\n",
       "    </tr>\n",
       "  </tbody>\n",
       "</table>\n",
       "</div>"
      ],
      "text/plain": [
       "   id_tran        cpf estabelecimento  valor    status    data\n",
       "0     4137  902446808      cacau show     71  aprovada  Feb-20\n",
       "1      244  264999401      cacau show    488  aprovada  Apr-20\n",
       "2     1815   59310922      cacau show    427  aprovada  May-20\n",
       "3     2142  178025312      cacau show    151  aprovada  Apr-20\n",
       "4      555  693023755      cacau show    670  aprovada  Mar-20"
      ]
     },
     "execution_count": 12,
     "metadata": {},
     "output_type": "execute_result"
    }
   ],
   "source": [
    "df_transacoes.drop('Unnamed: 6', axis = 1, inplace = True) # axis = 1 pois 0 é linha e 1 é coluna\n",
    "df_transacoes.head()"
   ]
  },
  {
   "cell_type": "markdown",
   "id": "864e2fac",
   "metadata": {},
   "source": [
    "* Verificando se há valores duplicados"
   ]
  },
  {
   "cell_type": "code",
   "execution_count": 13,
   "id": "5273a2fc",
   "metadata": {},
   "outputs": [
    {
     "data": {
      "text/html": [
       "<div>\n",
       "<style scoped>\n",
       "    .dataframe tbody tr th:only-of-type {\n",
       "        vertical-align: middle;\n",
       "    }\n",
       "\n",
       "    .dataframe tbody tr th {\n",
       "        vertical-align: top;\n",
       "    }\n",
       "\n",
       "    .dataframe thead th {\n",
       "        text-align: right;\n",
       "    }\n",
       "</style>\n",
       "<table border=\"1\" class=\"dataframe\">\n",
       "  <thead>\n",
       "    <tr style=\"text-align: right;\">\n",
       "      <th></th>\n",
       "      <th>cpf</th>\n",
       "      <th>nome</th>\n",
       "      <th>sexo</th>\n",
       "      <th>idade</th>\n",
       "      <th>renda</th>\n",
       "      <th>estado</th>\n",
       "      <th>email</th>\n",
       "    </tr>\n",
       "  </thead>\n",
       "  <tbody>\n",
       "    <tr>\n",
       "      <th>35</th>\n",
       "      <td>686809896</td>\n",
       "      <td>MATUS</td>\n",
       "      <td>masculino</td>\n",
       "      <td>52</td>\n",
       "      <td>31415</td>\n",
       "      <td>SP</td>\n",
       "      <td>matus5@hotmail.com</td>\n",
       "    </tr>\n",
       "    <tr>\n",
       "      <th>36</th>\n",
       "      <td>969685417</td>\n",
       "      <td>IRISNALDO</td>\n",
       "      <td>masculino</td>\n",
       "      <td>27</td>\n",
       "      <td>19403</td>\n",
       "      <td>RS</td>\n",
       "      <td>irisnaldo9@hotmail.com</td>\n",
       "    </tr>\n",
       "    <tr>\n",
       "      <th>37</th>\n",
       "      <td>241628473</td>\n",
       "      <td>AIR</td>\n",
       "      <td>masculino</td>\n",
       "      <td>30</td>\n",
       "      <td>16368</td>\n",
       "      <td>PR</td>\n",
       "      <td>air3@hotmail.com</td>\n",
       "    </tr>\n",
       "    <tr>\n",
       "      <th>38</th>\n",
       "      <td>547507596</td>\n",
       "      <td>CASSIANE</td>\n",
       "      <td>feminino</td>\n",
       "      <td>36</td>\n",
       "      <td>29545</td>\n",
       "      <td>TO</td>\n",
       "      <td>cassiane3@hotmail.com</td>\n",
       "    </tr>\n",
       "    <tr>\n",
       "      <th>39</th>\n",
       "      <td>637992749</td>\n",
       "      <td>CELIS</td>\n",
       "      <td>feminino</td>\n",
       "      <td>51</td>\n",
       "      <td>19318</td>\n",
       "      <td>SP</td>\n",
       "      <td>celis5@hotmail.com</td>\n",
       "    </tr>\n",
       "    <tr>\n",
       "      <th>...</th>\n",
       "      <td>...</td>\n",
       "      <td>...</td>\n",
       "      <td>...</td>\n",
       "      <td>...</td>\n",
       "      <td>...</td>\n",
       "      <td>...</td>\n",
       "      <td>...</td>\n",
       "    </tr>\n",
       "    <tr>\n",
       "      <th>656</th>\n",
       "      <td>191349067</td>\n",
       "      <td>RAIMUDA</td>\n",
       "      <td>feminino</td>\n",
       "      <td>42</td>\n",
       "      <td>24014</td>\n",
       "      <td>RJ</td>\n",
       "      <td>raimuda4@hotmail.com</td>\n",
       "    </tr>\n",
       "    <tr>\n",
       "      <th>657</th>\n",
       "      <td>855387121</td>\n",
       "      <td>JACI</td>\n",
       "      <td>feminino</td>\n",
       "      <td>21</td>\n",
       "      <td>24211</td>\n",
       "      <td>RJ</td>\n",
       "      <td>jaci0@hotmail.com</td>\n",
       "    </tr>\n",
       "    <tr>\n",
       "      <th>658</th>\n",
       "      <td>763141734</td>\n",
       "      <td>QUINTINO</td>\n",
       "      <td>masculino</td>\n",
       "      <td>20</td>\n",
       "      <td>24139</td>\n",
       "      <td>TO</td>\n",
       "      <td>quintino3@hotmail.com</td>\n",
       "    </tr>\n",
       "    <tr>\n",
       "      <th>659</th>\n",
       "      <td>235053593</td>\n",
       "      <td>ANJO</td>\n",
       "      <td>masculino</td>\n",
       "      <td>47</td>\n",
       "      <td>37542</td>\n",
       "      <td>MG</td>\n",
       "      <td>anjo0@hotmail.com</td>\n",
       "    </tr>\n",
       "    <tr>\n",
       "      <th>660</th>\n",
       "      <td>584413494</td>\n",
       "      <td>CLEMILSON</td>\n",
       "      <td>masculino</td>\n",
       "      <td>38</td>\n",
       "      <td>21930</td>\n",
       "      <td>SP</td>\n",
       "      <td>clemilson0@hotmail.com</td>\n",
       "    </tr>\n",
       "  </tbody>\n",
       "</table>\n",
       "<p>80 rows × 7 columns</p>\n",
       "</div>"
      ],
      "text/plain": [
       "           cpf       nome       sexo  idade  renda estado  \\\n",
       "35   686809896      MATUS  masculino     52  31415     SP   \n",
       "36   969685417  IRISNALDO  masculino     27  19403     RS   \n",
       "37   241628473        AIR  masculino     30  16368     PR   \n",
       "38   547507596   CASSIANE   feminino     36  29545     TO   \n",
       "39   637992749      CELIS   feminino     51  19318     SP   \n",
       "..         ...        ...        ...    ...    ...    ...   \n",
       "656  191349067    RAIMUDA   feminino     42  24014     RJ   \n",
       "657  855387121       JACI   feminino     21  24211     RJ   \n",
       "658  763141734   QUINTINO  masculino     20  24139     TO   \n",
       "659  235053593       ANJO  masculino     47  37542     MG   \n",
       "660  584413494  CLEMILSON  masculino     38  21930     SP   \n",
       "\n",
       "                      email  \n",
       "35       matus5@hotmail.com  \n",
       "36   irisnaldo9@hotmail.com  \n",
       "37         air3@hotmail.com  \n",
       "38    cassiane3@hotmail.com  \n",
       "39       celis5@hotmail.com  \n",
       "..                      ...  \n",
       "656    raimuda4@hotmail.com  \n",
       "657       jaci0@hotmail.com  \n",
       "658   quintino3@hotmail.com  \n",
       "659       anjo0@hotmail.com  \n",
       "660  clemilson0@hotmail.com  \n",
       "\n",
       "[80 rows x 7 columns]"
      ]
     },
     "execution_count": 13,
     "metadata": {},
     "output_type": "execute_result"
    }
   ],
   "source": [
    "# Buscamos os dados duplicados no df dos clientes pelo cpf, pois dois clientes não podem ter o mesmo cpf\n",
    "df_clientes[df_clientes.duplicated(['cpf'], keep = False)] "
   ]
  },
  {
   "cell_type": "code",
   "execution_count": 14,
   "id": "96774021",
   "metadata": {},
   "outputs": [
    {
     "data": {
      "text/html": [
       "<div>\n",
       "<style scoped>\n",
       "    .dataframe tbody tr th:only-of-type {\n",
       "        vertical-align: middle;\n",
       "    }\n",
       "\n",
       "    .dataframe tbody tr th {\n",
       "        vertical-align: top;\n",
       "    }\n",
       "\n",
       "    .dataframe thead th {\n",
       "        text-align: right;\n",
       "    }\n",
       "</style>\n",
       "<table border=\"1\" class=\"dataframe\">\n",
       "  <thead>\n",
       "    <tr style=\"text-align: right;\">\n",
       "      <th></th>\n",
       "      <th>email</th>\n",
       "      <th>pagina</th>\n",
       "      <th>rede_social</th>\n",
       "    </tr>\n",
       "  </thead>\n",
       "  <tbody>\n",
       "    <tr>\n",
       "      <th>0</th>\n",
       "      <td>carmina8@hotmail.com</td>\n",
       "      <td>Kopenhagen</td>\n",
       "      <td>instagram</td>\n",
       "    </tr>\n",
       "    <tr>\n",
       "      <th>1</th>\n",
       "      <td>rute5@hotmail.com</td>\n",
       "      <td>Kopenhagen</td>\n",
       "      <td>facebook</td>\n",
       "    </tr>\n",
       "    <tr>\n",
       "      <th>2</th>\n",
       "      <td>liberaci5@hotmail.com</td>\n",
       "      <td>Kopenhagen</td>\n",
       "      <td>facebook</td>\n",
       "    </tr>\n",
       "    <tr>\n",
       "      <th>3</th>\n",
       "      <td>natlia3@hotmail.com</td>\n",
       "      <td>Uber</td>\n",
       "      <td>instagram</td>\n",
       "    </tr>\n",
       "    <tr>\n",
       "      <th>4</th>\n",
       "      <td>francileni4@hotmail.com</td>\n",
       "      <td>Uber</td>\n",
       "      <td>facebook</td>\n",
       "    </tr>\n",
       "    <tr>\n",
       "      <th>...</th>\n",
       "      <td>...</td>\n",
       "      <td>...</td>\n",
       "      <td>...</td>\n",
       "    </tr>\n",
       "    <tr>\n",
       "      <th>2449</th>\n",
       "      <td>magdiel1@hotmail.com</td>\n",
       "      <td>Netflix</td>\n",
       "      <td>instagram</td>\n",
       "    </tr>\n",
       "    <tr>\n",
       "      <th>2450</th>\n",
       "      <td>oldair6@hotmail.com</td>\n",
       "      <td>Netflix</td>\n",
       "      <td>facebook</td>\n",
       "    </tr>\n",
       "    <tr>\n",
       "      <th>2451</th>\n",
       "      <td>lincoln8@hotmail.com</td>\n",
       "      <td>Itaú</td>\n",
       "      <td>facebook</td>\n",
       "    </tr>\n",
       "    <tr>\n",
       "      <th>2452</th>\n",
       "      <td>cristian3@hotmail.com</td>\n",
       "      <td>Apple</td>\n",
       "      <td>instagram</td>\n",
       "    </tr>\n",
       "    <tr>\n",
       "      <th>2453</th>\n",
       "      <td>lucilo3@hotmail.com</td>\n",
       "      <td>Renner</td>\n",
       "      <td>facebook</td>\n",
       "    </tr>\n",
       "  </tbody>\n",
       "</table>\n",
       "<p>2454 rows × 3 columns</p>\n",
       "</div>"
      ],
      "text/plain": [
       "                        email      pagina rede_social\n",
       "0        carmina8@hotmail.com  Kopenhagen   instagram\n",
       "1           rute5@hotmail.com  Kopenhagen    facebook\n",
       "2       liberaci5@hotmail.com  Kopenhagen    facebook\n",
       "3         natlia3@hotmail.com        Uber   instagram\n",
       "4     francileni4@hotmail.com        Uber    facebook\n",
       "...                       ...         ...         ...\n",
       "2449     magdiel1@hotmail.com     Netflix   instagram\n",
       "2450      oldair6@hotmail.com     Netflix    facebook\n",
       "2451     lincoln8@hotmail.com        Itaú    facebook\n",
       "2452    cristian3@hotmail.com       Apple   instagram\n",
       "2453      lucilo3@hotmail.com      Renner    facebook\n",
       "\n",
       "[2454 rows x 3 columns]"
      ]
     },
     "execution_count": 14,
     "metadata": {},
     "output_type": "execute_result"
    }
   ],
   "source": [
    "# Buscamos pelo email no df_redesocial\n",
    "df_redesocial[df_redesocial.duplicated(['email'], keep = False)] "
   ]
  },
  {
   "cell_type": "code",
   "execution_count": 15,
   "id": "4e57e055",
   "metadata": {},
   "outputs": [
    {
     "data": {
      "text/html": [
       "<div>\n",
       "<style scoped>\n",
       "    .dataframe tbody tr th:only-of-type {\n",
       "        vertical-align: middle;\n",
       "    }\n",
       "\n",
       "    .dataframe tbody tr th {\n",
       "        vertical-align: top;\n",
       "    }\n",
       "\n",
       "    .dataframe thead th {\n",
       "        text-align: right;\n",
       "    }\n",
       "</style>\n",
       "<table border=\"1\" class=\"dataframe\">\n",
       "  <thead>\n",
       "    <tr style=\"text-align: right;\">\n",
       "      <th></th>\n",
       "      <th>id_tran</th>\n",
       "      <th>cpf</th>\n",
       "      <th>estabelecimento</th>\n",
       "      <th>valor</th>\n",
       "      <th>status</th>\n",
       "      <th>data</th>\n",
       "    </tr>\n",
       "  </thead>\n",
       "  <tbody>\n",
       "  </tbody>\n",
       "</table>\n",
       "</div>"
      ],
      "text/plain": [
       "Empty DataFrame\n",
       "Columns: [id_tran, cpf, estabelecimento, valor, status, data]\n",
       "Index: []"
      ]
     },
     "execution_count": 15,
     "metadata": {},
     "output_type": "execute_result"
    }
   ],
   "source": [
    "# Buscamos pelo id da transação no df_transacoes\n",
    "df_transacoes[df_transacoes.duplicated(['id_tran'], keep=False)] \n",
    "# Não há duplicados, nada precisa ser feito"
   ]
  },
  {
   "cell_type": "code",
   "execution_count": 16,
   "id": "cdfa06c5",
   "metadata": {},
   "outputs": [
    {
     "data": {
      "text/html": [
       "<div>\n",
       "<style scoped>\n",
       "    .dataframe tbody tr th:only-of-type {\n",
       "        vertical-align: middle;\n",
       "    }\n",
       "\n",
       "    .dataframe tbody tr th {\n",
       "        vertical-align: top;\n",
       "    }\n",
       "\n",
       "    .dataframe thead th {\n",
       "        text-align: right;\n",
       "    }\n",
       "</style>\n",
       "<table border=\"1\" class=\"dataframe\">\n",
       "  <thead>\n",
       "    <tr style=\"text-align: right;\">\n",
       "      <th></th>\n",
       "      <th>cpf</th>\n",
       "      <th>nome</th>\n",
       "      <th>sexo</th>\n",
       "      <th>idade</th>\n",
       "      <th>renda</th>\n",
       "      <th>estado</th>\n",
       "      <th>email</th>\n",
       "    </tr>\n",
       "  </thead>\n",
       "  <tbody>\n",
       "    <tr>\n",
       "      <th>35</th>\n",
       "      <td>686809896</td>\n",
       "      <td>MATUS</td>\n",
       "      <td>masculino</td>\n",
       "      <td>52</td>\n",
       "      <td>31415</td>\n",
       "      <td>SP</td>\n",
       "      <td>matus5@hotmail.com</td>\n",
       "    </tr>\n",
       "    <tr>\n",
       "      <th>621</th>\n",
       "      <td>686809896</td>\n",
       "      <td>MATUS</td>\n",
       "      <td>masculino</td>\n",
       "      <td>52</td>\n",
       "      <td>31415</td>\n",
       "      <td>SP</td>\n",
       "      <td>matus5@hotmail.com</td>\n",
       "    </tr>\n",
       "  </tbody>\n",
       "</table>\n",
       "</div>"
      ],
      "text/plain": [
       "           cpf   nome       sexo  idade  renda estado               email\n",
       "35   686809896  MATUS  masculino     52  31415     SP  matus5@hotmail.com\n",
       "621  686809896  MATUS  masculino     52  31415     SP  matus5@hotmail.com"
      ]
     },
     "execution_count": 16,
     "metadata": {},
     "output_type": "execute_result"
    }
   ],
   "source": [
    "# No df_clientes, pegamos um cliente teoricamente duplicado para ver se é isso mesmo\n",
    "df_clientes.loc[df_clientes['nome'] ==  'MATUS']"
   ]
  },
  {
   "cell_type": "code",
   "execution_count": 17,
   "id": "f2790ad9",
   "metadata": {},
   "outputs": [
    {
     "data": {
      "text/html": [
       "<div>\n",
       "<style scoped>\n",
       "    .dataframe tbody tr th:only-of-type {\n",
       "        vertical-align: middle;\n",
       "    }\n",
       "\n",
       "    .dataframe tbody tr th {\n",
       "        vertical-align: top;\n",
       "    }\n",
       "\n",
       "    .dataframe thead th {\n",
       "        text-align: right;\n",
       "    }\n",
       "</style>\n",
       "<table border=\"1\" class=\"dataframe\">\n",
       "  <thead>\n",
       "    <tr style=\"text-align: right;\">\n",
       "      <th></th>\n",
       "      <th>email</th>\n",
       "      <th>pagina</th>\n",
       "      <th>rede_social</th>\n",
       "    </tr>\n",
       "  </thead>\n",
       "  <tbody>\n",
       "    <tr>\n",
       "      <th>1</th>\n",
       "      <td>rute5@hotmail.com</td>\n",
       "      <td>Kopenhagen</td>\n",
       "      <td>facebook</td>\n",
       "    </tr>\n",
       "    <tr>\n",
       "      <th>622</th>\n",
       "      <td>rute5@hotmail.com</td>\n",
       "      <td>Apple</td>\n",
       "      <td>instagram</td>\n",
       "    </tr>\n",
       "    <tr>\n",
       "      <th>1243</th>\n",
       "      <td>rute5@hotmail.com</td>\n",
       "      <td>Cacau Show</td>\n",
       "      <td>instagram</td>\n",
       "    </tr>\n",
       "  </tbody>\n",
       "</table>\n",
       "</div>"
      ],
      "text/plain": [
       "                  email      pagina rede_social\n",
       "1     rute5@hotmail.com  Kopenhagen    facebook\n",
       "622   rute5@hotmail.com       Apple   instagram\n",
       "1243  rute5@hotmail.com  Cacau Show   instagram"
      ]
     },
     "execution_count": 17,
     "metadata": {},
     "output_type": "execute_result"
    }
   ],
   "source": [
    "# Pegando um email duplicado no df das redes sociais\n",
    "df_redesocial.loc[df_redesocial['email'] ==  'rute5@hotmail.com']\n",
    "# Não precisamos eliminar nenhuma linha pois elas não necessarimente são iguais"
   ]
  },
  {
   "cell_type": "code",
   "execution_count": 18,
   "id": "4c0172c9",
   "metadata": {},
   "outputs": [],
   "source": [
    "# No df_clientes, apaga os dados duplicados e fica só com o primeiro que aparece\n",
    "df_clientes.drop_duplicates(subset = \"cpf\", keep = 'first', inplace = True)"
   ]
  },
  {
   "cell_type": "code",
   "execution_count": 19,
   "id": "51722e84",
   "metadata": {},
   "outputs": [
    {
     "data": {
      "text/html": [
       "<div>\n",
       "<style scoped>\n",
       "    .dataframe tbody tr th:only-of-type {\n",
       "        vertical-align: middle;\n",
       "    }\n",
       "\n",
       "    .dataframe tbody tr th {\n",
       "        vertical-align: top;\n",
       "    }\n",
       "\n",
       "    .dataframe thead th {\n",
       "        text-align: right;\n",
       "    }\n",
       "</style>\n",
       "<table border=\"1\" class=\"dataframe\">\n",
       "  <thead>\n",
       "    <tr style=\"text-align: right;\">\n",
       "      <th></th>\n",
       "      <th>cpf</th>\n",
       "      <th>nome</th>\n",
       "      <th>sexo</th>\n",
       "      <th>idade</th>\n",
       "      <th>renda</th>\n",
       "      <th>estado</th>\n",
       "      <th>email</th>\n",
       "    </tr>\n",
       "  </thead>\n",
       "  <tbody>\n",
       "  </tbody>\n",
       "</table>\n",
       "</div>"
      ],
      "text/plain": [
       "Empty DataFrame\n",
       "Columns: [cpf, nome, sexo, idade, renda, estado, email]\n",
       "Index: []"
      ]
     },
     "execution_count": 19,
     "metadata": {},
     "output_type": "execute_result"
    }
   ],
   "source": [
    "# Buscamos duplicados novamente e verificamos se eles realmente sumiram\n",
    "df_clientes[df_clientes.duplicated(['cpf'], keep=False)] "
   ]
  },
  {
   "cell_type": "markdown",
   "id": "e8dcedff",
   "metadata": {},
   "source": [
    "* Agrupando para ver as ocorrências de cada valor em algumas colunas."
   ]
  },
  {
   "cell_type": "code",
   "execution_count": 20,
   "id": "486e4890",
   "metadata": {},
   "outputs": [
    {
     "data": {
      "text/plain": [
       "sexo\n",
       "feminino     276\n",
       "masculino    345\n",
       "dtype: int64"
      ]
     },
     "execution_count": 20,
     "metadata": {},
     "output_type": "execute_result"
    }
   ],
   "source": [
    "sexo_clientes = df_clientes.groupby(['sexo']).size()\n",
    "sexo_clientes"
   ]
  },
  {
   "cell_type": "code",
   "execution_count": 21,
   "id": "6f8a6ac0",
   "metadata": {},
   "outputs": [
    {
     "data": {
      "text/plain": [
       "<AxesSubplot:xlabel='sexo'>"
      ]
     },
     "execution_count": 21,
     "metadata": {},
     "output_type": "execute_result"
    },
    {
     "data": {
      "image/png": "[encoded data removed]",
      "text/plain": [
       "<Figure size 432x288 with 1 Axes>"
      ]
     },
     "metadata": {
      "needs_background": "light"
     },
     "output_type": "display_data"
    }
   ],
   "source": [
    "sexo_clientes.plot.bar(color = 'gray') # faz um gráfico dos valores da coluna"
   ]
  },
  {
   "cell_type": "code",
   "execution_count": 22,
   "id": "35308dfb",
   "metadata": {},
   "outputs": [
    {
     "data": {
      "text/plain": [
       "count    621.000000\n",
       "mean      38.745572\n",
       "std       12.131657\n",
       "min       18.000000\n",
       "25%       28.000000\n",
       "50%       39.000000\n",
       "75%       49.000000\n",
       "max       60.000000\n",
       "Name: idade, dtype: float64"
      ]
     },
     "execution_count": 22,
     "metadata": {},
     "output_type": "execute_result"
    }
   ],
   "source": [
    "df_clientes['idade'].describe() # mostra informações de colunas numéricas, com a média, mediana, desvio padrão, etc.\n",
    "# média e mediana próximas (mean e 25%), indicio de dados regulares, sem grandes outliers\n",
    "# valores minímos e máximo condizentes com a realidade, 18 e 60"
   ]
  },
  {
   "cell_type": "code",
   "execution_count": 23,
   "id": "33c35792",
   "metadata": {},
   "outputs": [
    {
     "data": {
      "text/plain": [
       "Text(0.5, 1.0, 'Idade')"
      ]
     },
     "execution_count": 23,
     "metadata": {},
     "output_type": "execute_result"
    },
    {
     "data": {
      "image/png": "[encoded data removed]",
      "text/plain": [
       "<Figure size 432x288 with 1 Axes>"
      ]
     },
     "metadata": {
      "needs_background": "light"
     },
     "output_type": "display_data"
    }
   ],
   "source": [
    "# visualizar dados numéricos em um boxplot\n",
    "srn.boxplot(x = df_clientes['idade'], color = \"gray\").set_title(label = 'Idade')"
   ]
  },
  {
   "cell_type": "code",
   "execution_count": 24,
   "id": "7511e714",
   "metadata": {},
   "outputs": [
    {
     "data": {
      "text/plain": [
       "Text(0.5, 1.0, 'Idade')"
      ]
     },
     "execution_count": 24,
     "metadata": {},
     "output_type": "execute_result"
    },
    {
     "data": {
      "image/png": "[encoded data removed]",
      "text/plain": [
       "<Figure size 432x288 with 1 Axes>"
      ]
     },
     "metadata": {
      "needs_background": "light"
     },
     "output_type": "display_data"
    }
   ],
   "source": [
    "# visualizar em um gráfico de barras\n",
    "srn.histplot(df_clientes['idade'], color = \"grey\").set_title('Idade')"
   ]
  },
  {
   "cell_type": "code",
   "execution_count": 25,
   "id": "913c9ed9",
   "metadata": {},
   "outputs": [
    {
     "data": {
      "text/plain": [
       "status\n",
       "aprovada    5079\n",
       "negada       152\n",
       "dtype: int64"
      ]
     },
     "execution_count": 25,
     "metadata": {},
     "output_type": "execute_result"
    }
   ],
   "source": [
    "aprov_compras = df_transacoes.groupby(['status']).size()\n",
    "aprov_compras"
   ]
  },
  {
   "cell_type": "code",
   "execution_count": 26,
   "id": "8f19a30c",
   "metadata": {},
   "outputs": [
    {
     "data": {
      "text/plain": [
       "estabelecimento\n",
       "CARREFOUR          287\n",
       "IFOOD              337\n",
       "NETFLIX            324\n",
       "RENNER            1014\n",
       "UBER               314\n",
       "Uber               324\n",
       "ZARA IBIRAP        353\n",
       "cacau show         344\n",
       "ifood              300\n",
       "smart fit          343\n",
       "uber               329\n",
       "zara analia fr     306\n",
       "zara morumbi       339\n",
       "zara plazasul      317\n",
       "dtype: int64"
      ]
     },
     "execution_count": 26,
     "metadata": {},
     "output_type": "execute_result"
    }
   ],
   "source": [
    "estabelecimento_compra = df_transacoes.groupby(['estabelecimento']).size()\n",
    "estabelecimento_compra"
   ]
  },
  {
   "cell_type": "code",
   "execution_count": 27,
   "id": "8000539e",
   "metadata": {},
   "outputs": [
    {
     "data": {
      "text/plain": [
       "pagina\n",
       "Apple         260\n",
       "Cacau Show    279\n",
       "Itaú          341\n",
       "Kopenhagen    237\n",
       "Netflix       284\n",
       "Nike          246\n",
       "Renner        128\n",
       "Smart Fit      62\n",
       "Uber          326\n",
       "Zara          291\n",
       "dtype: int64"
      ]
     },
     "execution_count": 27,
     "metadata": {},
     "output_type": "execute_result"
    }
   ],
   "source": [
    "paginas_redesocial = df_redesocial.groupby(['pagina']).size()\n",
    "paginas_redesocial"
   ]
  },
  {
   "cell_type": "markdown",
   "id": "77896a8b",
   "metadata": {},
   "source": [
    "### Etapa 2: Respondendo as perguntas propostas"
   ]
  },
  {
   "cell_type": "markdown",
   "id": "eedf9eda",
   "metadata": {},
   "source": [
    "##### 1.    Quantos clientes temos?"
   ]
  },
  {
   "cell_type": "markdown",
   "id": "c0eb86c6",
   "metadata": {},
   "source": [
    "Como foram eliminados clientes \"duplicados\" no df_clientes, ou seja, linhas que tinham o mesmo cliente, localizados através do cpf, conclui-se que o número de linhas do DataFrame é o número de clientes únicos."
   ]
  },
  {
   "cell_type": "code",
   "execution_count": 28,
   "id": "bc34063e",
   "metadata": {},
   "outputs": [
    {
     "data": {
      "text/plain": [
       "(621, 7)"
      ]
     },
     "execution_count": 28,
     "metadata": {},
     "output_type": "execute_result"
    }
   ],
   "source": [
    "df_clientes.shape"
   ]
  },
  {
   "cell_type": "markdown",
   "id": "55433e0c",
   "metadata": {},
   "source": [
    "Portanto, a empresa de serviços financeiros tem 621 clientes."
   ]
  },
  {
   "cell_type": "markdown",
   "id": "208ede68",
   "metadata": {},
   "source": [
    "##### 2.    Quantas compras foram efetivamente feitas no mês de maio?"
   ]
  },
  {
   "cell_type": "code",
   "execution_count": 29,
   "id": "3d46435b",
   "metadata": {},
   "outputs": [
    {
     "data": {
      "text/html": [
       "<div>\n",
       "<style scoped>\n",
       "    .dataframe tbody tr th:only-of-type {\n",
       "        vertical-align: middle;\n",
       "    }\n",
       "\n",
       "    .dataframe tbody tr th {\n",
       "        vertical-align: top;\n",
       "    }\n",
       "\n",
       "    .dataframe thead th {\n",
       "        text-align: right;\n",
       "    }\n",
       "</style>\n",
       "<table border=\"1\" class=\"dataframe\">\n",
       "  <thead>\n",
       "    <tr style=\"text-align: right;\">\n",
       "      <th></th>\n",
       "      <th>id_tran</th>\n",
       "      <th>cpf</th>\n",
       "      <th>estabelecimento</th>\n",
       "      <th>valor</th>\n",
       "      <th>status</th>\n",
       "      <th>data</th>\n",
       "    </tr>\n",
       "  </thead>\n",
       "  <tbody>\n",
       "    <tr>\n",
       "      <th>2</th>\n",
       "      <td>1815</td>\n",
       "      <td>59310922</td>\n",
       "      <td>cacau show</td>\n",
       "      <td>427</td>\n",
       "      <td>aprovada</td>\n",
       "      <td>May-20</td>\n",
       "    </tr>\n",
       "    <tr>\n",
       "      <th>5</th>\n",
       "      <td>4091</td>\n",
       "      <td>589663115</td>\n",
       "      <td>cacau show</td>\n",
       "      <td>304</td>\n",
       "      <td>aprovada</td>\n",
       "      <td>May-20</td>\n",
       "    </tr>\n",
       "    <tr>\n",
       "      <th>6</th>\n",
       "      <td>1658</td>\n",
       "      <td>145484666</td>\n",
       "      <td>cacau show</td>\n",
       "      <td>8</td>\n",
       "      <td>aprovada</td>\n",
       "      <td>May-20</td>\n",
       "    </tr>\n",
       "    <tr>\n",
       "      <th>25</th>\n",
       "      <td>4880</td>\n",
       "      <td>893644632</td>\n",
       "      <td>cacau show</td>\n",
       "      <td>545</td>\n",
       "      <td>aprovada</td>\n",
       "      <td>May-20</td>\n",
       "    </tr>\n",
       "    <tr>\n",
       "      <th>28</th>\n",
       "      <td>1935</td>\n",
       "      <td>244395333</td>\n",
       "      <td>cacau show</td>\n",
       "      <td>609</td>\n",
       "      <td>aprovada</td>\n",
       "      <td>May-20</td>\n",
       "    </tr>\n",
       "    <tr>\n",
       "      <th>...</th>\n",
       "      <td>...</td>\n",
       "      <td>...</td>\n",
       "      <td>...</td>\n",
       "      <td>...</td>\n",
       "      <td>...</td>\n",
       "      <td>...</td>\n",
       "    </tr>\n",
       "    <tr>\n",
       "      <th>5196</th>\n",
       "      <td>3181</td>\n",
       "      <td>47928889</td>\n",
       "      <td>zara plazasul</td>\n",
       "      <td>669</td>\n",
       "      <td>aprovada</td>\n",
       "      <td>May-20</td>\n",
       "    </tr>\n",
       "    <tr>\n",
       "      <th>5197</th>\n",
       "      <td>4419</td>\n",
       "      <td>68303890</td>\n",
       "      <td>zara plazasul</td>\n",
       "      <td>503</td>\n",
       "      <td>aprovada</td>\n",
       "      <td>May-20</td>\n",
       "    </tr>\n",
       "    <tr>\n",
       "      <th>5205</th>\n",
       "      <td>2760</td>\n",
       "      <td>426470187</td>\n",
       "      <td>zara plazasul</td>\n",
       "      <td>739</td>\n",
       "      <td>aprovada</td>\n",
       "      <td>May-20</td>\n",
       "    </tr>\n",
       "    <tr>\n",
       "      <th>5212</th>\n",
       "      <td>158</td>\n",
       "      <td>830783739</td>\n",
       "      <td>zara plazasul</td>\n",
       "      <td>293</td>\n",
       "      <td>aprovada</td>\n",
       "      <td>May-20</td>\n",
       "    </tr>\n",
       "    <tr>\n",
       "      <th>5223</th>\n",
       "      <td>3211</td>\n",
       "      <td>650770868</td>\n",
       "      <td>zara plazasul</td>\n",
       "      <td>310</td>\n",
       "      <td>aprovada</td>\n",
       "      <td>May-20</td>\n",
       "    </tr>\n",
       "  </tbody>\n",
       "</table>\n",
       "<p>985 rows × 6 columns</p>\n",
       "</div>"
      ],
      "text/plain": [
       "      id_tran        cpf estabelecimento  valor    status    data\n",
       "2        1815   59310922      cacau show    427  aprovada  May-20\n",
       "5        4091  589663115      cacau show    304  aprovada  May-20\n",
       "6        1658  145484666      cacau show      8  aprovada  May-20\n",
       "25       4880  893644632      cacau show    545  aprovada  May-20\n",
       "28       1935  244395333      cacau show    609  aprovada  May-20\n",
       "...       ...        ...             ...    ...       ...     ...\n",
       "5196     3181   47928889   zara plazasul    669  aprovada  May-20\n",
       "5197     4419   68303890   zara plazasul    503  aprovada  May-20\n",
       "5205     2760  426470187   zara plazasul    739  aprovada  May-20\n",
       "5212      158  830783739   zara plazasul    293  aprovada  May-20\n",
       "5223     3211  650770868   zara plazasul    310  aprovada  May-20\n",
       "\n",
       "[985 rows x 6 columns]"
      ]
     },
     "execution_count": 29,
     "metadata": {},
     "output_type": "execute_result"
    }
   ],
   "source": [
    "df_transacoes.loc[(df_transacoes.status == 'aprovada') & (df_transacoes.data.str.contains('May', regex = False))]"
   ]
  },
  {
   "cell_type": "markdown",
   "id": "fb75975c",
   "metadata": {},
   "source": [
    "Foram efetivadas 985 compras no mês de maio."
   ]
  },
  {
   "cell_type": "markdown",
   "id": "c5e4f4e9",
   "metadata": {},
   "source": [
    "##### 3.    Mostre em um gráfico/tabela a quantidade de compras aprovadas e o valor gasto no Uber de janeiro a maio (mês a mês)."
   ]
  },
  {
   "cell_type": "code",
   "execution_count": 30,
   "id": "4d94f6f2",
   "metadata": {},
   "outputs": [
    {
     "data": {
      "text/html": [
       "<div>\n",
       "<style scoped>\n",
       "    .dataframe tbody tr th:only-of-type {\n",
       "        vertical-align: middle;\n",
       "    }\n",
       "\n",
       "    .dataframe tbody tr th {\n",
       "        vertical-align: top;\n",
       "    }\n",
       "\n",
       "    .dataframe thead th {\n",
       "        text-align: right;\n",
       "    }\n",
       "</style>\n",
       "<table border=\"1\" class=\"dataframe\">\n",
       "  <thead>\n",
       "    <tr style=\"text-align: right;\">\n",
       "      <th></th>\n",
       "      <th>id_tran</th>\n",
       "      <th>cpf</th>\n",
       "      <th>estabelecimento</th>\n",
       "      <th>valor</th>\n",
       "      <th>status</th>\n",
       "      <th>data</th>\n",
       "    </tr>\n",
       "  </thead>\n",
       "  <tbody>\n",
       "    <tr>\n",
       "      <th>2949</th>\n",
       "      <td>4504</td>\n",
       "      <td>179426370</td>\n",
       "      <td>Uber</td>\n",
       "      <td>71</td>\n",
       "      <td>aprovada</td>\n",
       "      <td>Apr-20</td>\n",
       "    </tr>\n",
       "    <tr>\n",
       "      <th>2950</th>\n",
       "      <td>3595</td>\n",
       "      <td>398622833</td>\n",
       "      <td>Uber</td>\n",
       "      <td>39</td>\n",
       "      <td>aprovada</td>\n",
       "      <td>Apr-20</td>\n",
       "    </tr>\n",
       "    <tr>\n",
       "      <th>2959</th>\n",
       "      <td>1069</td>\n",
       "      <td>192319728</td>\n",
       "      <td>Uber</td>\n",
       "      <td>86</td>\n",
       "      <td>aprovada</td>\n",
       "      <td>Mar-20</td>\n",
       "    </tr>\n",
       "    <tr>\n",
       "      <th>2961</th>\n",
       "      <td>3319</td>\n",
       "      <td>655497369</td>\n",
       "      <td>Uber</td>\n",
       "      <td>31</td>\n",
       "      <td>aprovada</td>\n",
       "      <td>Feb-20</td>\n",
       "    </tr>\n",
       "    <tr>\n",
       "      <th>2964</th>\n",
       "      <td>138</td>\n",
       "      <td>352769712</td>\n",
       "      <td>Uber</td>\n",
       "      <td>96</td>\n",
       "      <td>aprovada</td>\n",
       "      <td>Jan-20</td>\n",
       "    </tr>\n",
       "    <tr>\n",
       "      <th>...</th>\n",
       "      <td>...</td>\n",
       "      <td>...</td>\n",
       "      <td>...</td>\n",
       "      <td>...</td>\n",
       "      <td>...</td>\n",
       "      <td>...</td>\n",
       "    </tr>\n",
       "    <tr>\n",
       "      <th>3901</th>\n",
       "      <td>2100</td>\n",
       "      <td>539464180</td>\n",
       "      <td>Uber</td>\n",
       "      <td>56</td>\n",
       "      <td>aprovada</td>\n",
       "      <td>Mar-20</td>\n",
       "    </tr>\n",
       "    <tr>\n",
       "      <th>3903</th>\n",
       "      <td>3138</td>\n",
       "      <td>117958664</td>\n",
       "      <td>Uber</td>\n",
       "      <td>64</td>\n",
       "      <td>aprovada</td>\n",
       "      <td>Mar-20</td>\n",
       "    </tr>\n",
       "    <tr>\n",
       "      <th>3907</th>\n",
       "      <td>799</td>\n",
       "      <td>326207860</td>\n",
       "      <td>Uber</td>\n",
       "      <td>51</td>\n",
       "      <td>aprovada</td>\n",
       "      <td>Jan-20</td>\n",
       "    </tr>\n",
       "    <tr>\n",
       "      <th>3908</th>\n",
       "      <td>3145</td>\n",
       "      <td>41358977</td>\n",
       "      <td>Uber</td>\n",
       "      <td>92</td>\n",
       "      <td>aprovada</td>\n",
       "      <td>Jan-20</td>\n",
       "    </tr>\n",
       "    <tr>\n",
       "      <th>3910</th>\n",
       "      <td>4472</td>\n",
       "      <td>444722665</td>\n",
       "      <td>Uber</td>\n",
       "      <td>72</td>\n",
       "      <td>aprovada</td>\n",
       "      <td>May-20</td>\n",
       "    </tr>\n",
       "  </tbody>\n",
       "</table>\n",
       "<p>317 rows × 6 columns</p>\n",
       "</div>"
      ],
      "text/plain": [
       "      id_tran        cpf estabelecimento  valor    status    data\n",
       "2949     4504  179426370            Uber     71  aprovada  Apr-20\n",
       "2950     3595  398622833            Uber     39  aprovada  Apr-20\n",
       "2959     1069  192319728            Uber     86  aprovada  Mar-20\n",
       "2961     3319  655497369            Uber     31  aprovada  Feb-20\n",
       "2964      138  352769712            Uber     96  aprovada  Jan-20\n",
       "...       ...        ...             ...    ...       ...     ...\n",
       "3901     2100  539464180            Uber     56  aprovada  Mar-20\n",
       "3903     3138  117958664            Uber     64  aprovada  Mar-20\n",
       "3907      799  326207860            Uber     51  aprovada  Jan-20\n",
       "3908     3145   41358977            Uber     92  aprovada  Jan-20\n",
       "3910     4472  444722665            Uber     72  aprovada  May-20\n",
       "\n",
       "[317 rows x 6 columns]"
      ]
     },
     "execution_count": 30,
     "metadata": {},
     "output_type": "execute_result"
    }
   ],
   "source": [
    "df_uber_aprovadas = df_transacoes.loc[(df_transacoes.status == 'aprovada') & (df_transacoes.estabelecimento == 'Uber')]\n",
    "df_uber_aprovadas"
   ]
  },
  {
   "cell_type": "code",
   "execution_count": 31,
   "id": "b4109f96",
   "metadata": {},
   "outputs": [
    {
     "name": "stdout",
     "output_type": "stream",
     "text": [
      "69 68 66 46 68\n",
      "3582 3590 3721 2669 3415\n"
     ]
    }
   ],
   "source": [
    "meses = ['Jan', 'Feb', 'Mar', 'Apr', 'May']\n",
    "uber_meses, numero_aprovadas, valor_meses = [], [], []\n",
    "\n",
    "for i in range (len(meses)):\n",
    "    # append na lista que armazena os dataframes das compras do Uber de cada mês\n",
    "    uber_meses.append(df_uber_aprovadas.loc[(df_uber_aprovadas.data.str.contains(meses[i], regex = False))])\n",
    "    # append na lista que armazena o numero de compras aprovadas em cada mês\n",
    "    numero_aprovadas.append(uber_meses[i].shape[0])\n",
    "    # append na lista que armazena o valor total das compras aprovadas no Uber de cada mês \n",
    "    valor_meses.append(uber_meses[i]['valor'].sum())\n",
    "\n",
    "print(numero_aprovadas[0], numero_aprovadas[1], numero_aprovadas[2], numero_aprovadas[3], numero_aprovadas[4])\n",
    "print(valor_meses[0], valor_meses[1], valor_meses[2], valor_meses[3], valor_meses[4])"
   ]
  },
  {
   "cell_type": "code",
   "execution_count": 32,
   "id": "2a70e79f",
   "metadata": {},
   "outputs": [
    {
     "data": {
      "image/png": "[encoded data removed]",
      "text/plain": [
       "<Figure size 432x288 with 1 Axes>"
      ]
     },
     "metadata": {
      "needs_background": "light"
     },
     "output_type": "display_data"
    }
   ],
   "source": [
    "plt.ylim(0, 80)\n",
    "plt.plot(meses, numero_aprovadas)\n",
    "plt.title('Compras aprovadas no Uber de Janeiro a Maio')\n",
    "plt.xlabel('Meses')\n",
    "plt.ylabel('Número de compras')\n",
    "plt.show()"
   ]
  },
  {
   "cell_type": "code",
   "execution_count": 33,
   "id": "1e238e43",
   "metadata": {},
   "outputs": [
    {
     "data": {
      "image/png": "[encoded data removed]",
      "text/plain": [
       "<Figure size 432x288 with 1 Axes>"
      ]
     },
     "metadata": {
      "needs_background": "light"
     },
     "output_type": "display_data"
    }
   ],
   "source": [
    "plt.ylim(0, 4000)\n",
    "plt.plot(meses, valor_meses)\n",
    "plt.title('Valor gasto no Uber de Janeiro a Maio')\n",
    "plt.xlabel('Meses')\n",
    "plt.ylabel('Valor gasto em R$')\n",
    "plt.show()"
   ]
  },
  {
   "cell_type": "markdown",
   "id": "70e5da61",
   "metadata": {},
   "source": [
    "##### 4.    Como analisar se o aumento/diminuição no último mês foi significativo?"
   ]
  },
  {
   "cell_type": "markdown",
   "id": "0c71d071",
   "metadata": {},
   "source": [
    "Podemos ver que houve uma queda significativa de 20 compras aprovadas no Uber de Março para Abril, o que ocasionou uma perda de 1052 reais. De Abril para Maio o número de compras aumentou em 22 e o valor gastou aumentou 746 reais. Portanto, podemos considerar que houve um aumento significativo em relação a Abril mas não necessariamente em relação aos meses passados. "
   ]
  },
  {
   "cell_type": "markdown",
   "id": "cd62b765",
   "metadata": {},
   "source": [
    "##### 5.    Qual foi o valor total gasto e a quantidade de compras feitas na Zara por mulheres?"
   ]
  },
  {
   "cell_type": "code",
   "execution_count": 34,
   "id": "f62eb66a",
   "metadata": {},
   "outputs": [
    {
     "data": {
      "text/html": [
       "<div>\n",
       "<style scoped>\n",
       "    .dataframe tbody tr th:only-of-type {\n",
       "        vertical-align: middle;\n",
       "    }\n",
       "\n",
       "    .dataframe tbody tr th {\n",
       "        vertical-align: top;\n",
       "    }\n",
       "\n",
       "    .dataframe thead th {\n",
       "        text-align: right;\n",
       "    }\n",
       "</style>\n",
       "<table border=\"1\" class=\"dataframe\">\n",
       "  <thead>\n",
       "    <tr style=\"text-align: right;\">\n",
       "      <th></th>\n",
       "      <th>id_tran</th>\n",
       "      <th>cpf</th>\n",
       "      <th>estabelecimento</th>\n",
       "      <th>valor</th>\n",
       "      <th>status</th>\n",
       "      <th>data</th>\n",
       "    </tr>\n",
       "  </thead>\n",
       "  <tbody>\n",
       "    <tr>\n",
       "      <th>3916</th>\n",
       "      <td>4877</td>\n",
       "      <td>137847973</td>\n",
       "      <td>zara analia fr</td>\n",
       "      <td>714</td>\n",
       "      <td>aprovada</td>\n",
       "      <td>May-20</td>\n",
       "    </tr>\n",
       "    <tr>\n",
       "      <th>3917</th>\n",
       "      <td>317</td>\n",
       "      <td>874995628</td>\n",
       "      <td>zara analia fr</td>\n",
       "      <td>372</td>\n",
       "      <td>aprovada</td>\n",
       "      <td>Mar-20</td>\n",
       "    </tr>\n",
       "    <tr>\n",
       "      <th>3918</th>\n",
       "      <td>255</td>\n",
       "      <td>144056529</td>\n",
       "      <td>zara analia fr</td>\n",
       "      <td>447</td>\n",
       "      <td>aprovada</td>\n",
       "      <td>May-20</td>\n",
       "    </tr>\n",
       "    <tr>\n",
       "      <th>3919</th>\n",
       "      <td>3209</td>\n",
       "      <td>672912917</td>\n",
       "      <td>zara analia fr</td>\n",
       "      <td>776</td>\n",
       "      <td>aprovada</td>\n",
       "      <td>Apr-20</td>\n",
       "    </tr>\n",
       "    <tr>\n",
       "      <th>3920</th>\n",
       "      <td>1851</td>\n",
       "      <td>198895053</td>\n",
       "      <td>zara analia fr</td>\n",
       "      <td>451</td>\n",
       "      <td>aprovada</td>\n",
       "      <td>May-20</td>\n",
       "    </tr>\n",
       "    <tr>\n",
       "      <th>...</th>\n",
       "      <td>...</td>\n",
       "      <td>...</td>\n",
       "      <td>...</td>\n",
       "      <td>...</td>\n",
       "      <td>...</td>\n",
       "      <td>...</td>\n",
       "    </tr>\n",
       "    <tr>\n",
       "      <th>5226</th>\n",
       "      <td>2837</td>\n",
       "      <td>976981026</td>\n",
       "      <td>zara plazasul</td>\n",
       "      <td>226</td>\n",
       "      <td>aprovada</td>\n",
       "      <td>Feb-20</td>\n",
       "    </tr>\n",
       "    <tr>\n",
       "      <th>5227</th>\n",
       "      <td>3190</td>\n",
       "      <td>260846826</td>\n",
       "      <td>zara plazasul</td>\n",
       "      <td>246</td>\n",
       "      <td>aprovada</td>\n",
       "      <td>Apr-20</td>\n",
       "    </tr>\n",
       "    <tr>\n",
       "      <th>5228</th>\n",
       "      <td>1447</td>\n",
       "      <td>763141734</td>\n",
       "      <td>zara plazasul</td>\n",
       "      <td>746</td>\n",
       "      <td>aprovada</td>\n",
       "      <td>Jan-20</td>\n",
       "    </tr>\n",
       "    <tr>\n",
       "      <th>5229</th>\n",
       "      <td>360</td>\n",
       "      <td>667968646</td>\n",
       "      <td>zara plazasul</td>\n",
       "      <td>202</td>\n",
       "      <td>aprovada</td>\n",
       "      <td>Mar-20</td>\n",
       "    </tr>\n",
       "    <tr>\n",
       "      <th>5230</th>\n",
       "      <td>3513</td>\n",
       "      <td>982771487</td>\n",
       "      <td>zara plazasul</td>\n",
       "      <td>708</td>\n",
       "      <td>aprovada</td>\n",
       "      <td>Jan-20</td>\n",
       "    </tr>\n",
       "  </tbody>\n",
       "</table>\n",
       "<p>934 rows × 6 columns</p>\n",
       "</div>"
      ],
      "text/plain": [
       "      id_tran        cpf estabelecimento  valor    status    data\n",
       "3916     4877  137847973  zara analia fr    714  aprovada  May-20\n",
       "3917      317  874995628  zara analia fr    372  aprovada  Mar-20\n",
       "3918      255  144056529  zara analia fr    447  aprovada  May-20\n",
       "3919     3209  672912917  zara analia fr    776  aprovada  Apr-20\n",
       "3920     1851  198895053  zara analia fr    451  aprovada  May-20\n",
       "...       ...        ...             ...    ...       ...     ...\n",
       "5226     2837  976981026   zara plazasul    226  aprovada  Feb-20\n",
       "5227     3190  260846826   zara plazasul    246  aprovada  Apr-20\n",
       "5228     1447  763141734   zara plazasul    746  aprovada  Jan-20\n",
       "5229      360  667968646   zara plazasul    202  aprovada  Mar-20\n",
       "5230     3513  982771487   zara plazasul    708  aprovada  Jan-20\n",
       "\n",
       "[934 rows x 6 columns]"
      ]
     },
     "execution_count": 34,
     "metadata": {},
     "output_type": "execute_result"
    }
   ],
   "source": [
    "df_zara = df_transacoes.loc[(df_transacoes.status == 'aprovada') & (df_transacoes.estabelecimento.str.contains('zara', regex = False))]\n",
    "df_zara"
   ]
  },
  {
   "cell_type": "code",
   "execution_count": 35,
   "id": "8e743a1f",
   "metadata": {},
   "outputs": [
    {
     "data": {
      "text/plain": [
       "934"
      ]
     },
     "execution_count": 35,
     "metadata": {},
     "output_type": "execute_result"
    }
   ],
   "source": [
    "cpfs_zara = list(df_zara['cpf'])\n",
    "len(cpfs_zara)"
   ]
  },
  {
   "cell_type": "code",
   "execution_count": 36,
   "id": "f402ea87",
   "metadata": {},
   "outputs": [
    {
     "data": {
      "text/html": [
       "<div>\n",
       "<style scoped>\n",
       "    .dataframe tbody tr th:only-of-type {\n",
       "        vertical-align: middle;\n",
       "    }\n",
       "\n",
       "    .dataframe tbody tr th {\n",
       "        vertical-align: top;\n",
       "    }\n",
       "\n",
       "    .dataframe thead th {\n",
       "        text-align: right;\n",
       "    }\n",
       "</style>\n",
       "<table border=\"1\" class=\"dataframe\">\n",
       "  <thead>\n",
       "    <tr style=\"text-align: right;\">\n",
       "      <th></th>\n",
       "      <th>cpf</th>\n",
       "      <th>nome</th>\n",
       "      <th>sexo</th>\n",
       "      <th>idade</th>\n",
       "      <th>renda</th>\n",
       "      <th>estado</th>\n",
       "      <th>email</th>\n",
       "    </tr>\n",
       "  </thead>\n",
       "  <tbody>\n",
       "    <tr>\n",
       "      <th>7</th>\n",
       "      <td>132466721</td>\n",
       "      <td>WANESSA</td>\n",
       "      <td>feminino</td>\n",
       "      <td>19</td>\n",
       "      <td>22098</td>\n",
       "      <td>PR</td>\n",
       "      <td>wanessa0@hotmail.com</td>\n",
       "    </tr>\n",
       "    <tr>\n",
       "      <th>8</th>\n",
       "      <td>753246858</td>\n",
       "      <td>MICAEL</td>\n",
       "      <td>feminino</td>\n",
       "      <td>48</td>\n",
       "      <td>33742</td>\n",
       "      <td>SP</td>\n",
       "      <td>micael2@hotmail.com</td>\n",
       "    </tr>\n",
       "    <tr>\n",
       "      <th>10</th>\n",
       "      <td>313018047</td>\n",
       "      <td>CELEIDA</td>\n",
       "      <td>feminino</td>\n",
       "      <td>58</td>\n",
       "      <td>10782</td>\n",
       "      <td>TO</td>\n",
       "      <td>celeida7@hotmail.com</td>\n",
       "    </tr>\n",
       "    <tr>\n",
       "      <th>16</th>\n",
       "      <td>953989648</td>\n",
       "      <td>JENEFE</td>\n",
       "      <td>feminino</td>\n",
       "      <td>26</td>\n",
       "      <td>14362</td>\n",
       "      <td>MG</td>\n",
       "      <td>jenefe6@hotmail.com</td>\n",
       "    </tr>\n",
       "    <tr>\n",
       "      <th>17</th>\n",
       "      <td>549496525</td>\n",
       "      <td>ALLANE</td>\n",
       "      <td>feminino</td>\n",
       "      <td>34</td>\n",
       "      <td>24514</td>\n",
       "      <td>RJ</td>\n",
       "      <td>allane6@hotmail.com</td>\n",
       "    </tr>\n",
       "    <tr>\n",
       "      <th>...</th>\n",
       "      <td>...</td>\n",
       "      <td>...</td>\n",
       "      <td>...</td>\n",
       "      <td>...</td>\n",
       "      <td>...</td>\n",
       "      <td>...</td>\n",
       "      <td>...</td>\n",
       "    </tr>\n",
       "    <tr>\n",
       "      <th>607</th>\n",
       "      <td>34879512</td>\n",
       "      <td>EUNICI</td>\n",
       "      <td>feminino</td>\n",
       "      <td>25</td>\n",
       "      <td>22404</td>\n",
       "      <td>TO</td>\n",
       "      <td>eunici2@hotmail.com</td>\n",
       "    </tr>\n",
       "    <tr>\n",
       "      <th>609</th>\n",
       "      <td>54161125</td>\n",
       "      <td>CAMYLLE</td>\n",
       "      <td>feminino</td>\n",
       "      <td>42</td>\n",
       "      <td>36811</td>\n",
       "      <td>MS</td>\n",
       "      <td>camylle2@hotmail.com</td>\n",
       "    </tr>\n",
       "    <tr>\n",
       "      <th>610</th>\n",
       "      <td>3947638</td>\n",
       "      <td>KACIANE</td>\n",
       "      <td>feminino</td>\n",
       "      <td>38</td>\n",
       "      <td>33507</td>\n",
       "      <td>TO</td>\n",
       "      <td>kaciane4@hotmail.com</td>\n",
       "    </tr>\n",
       "    <tr>\n",
       "      <th>614</th>\n",
       "      <td>388249629</td>\n",
       "      <td>ISALRA</td>\n",
       "      <td>feminino</td>\n",
       "      <td>30</td>\n",
       "      <td>28386</td>\n",
       "      <td>SP</td>\n",
       "      <td>isalra7@hotmail.com</td>\n",
       "    </tr>\n",
       "    <tr>\n",
       "      <th>616</th>\n",
       "      <td>995998609</td>\n",
       "      <td>VANILDES</td>\n",
       "      <td>feminino</td>\n",
       "      <td>25</td>\n",
       "      <td>30025</td>\n",
       "      <td>MG</td>\n",
       "      <td>vanildes6@hotmail.com</td>\n",
       "    </tr>\n",
       "  </tbody>\n",
       "</table>\n",
       "<p>276 rows × 7 columns</p>\n",
       "</div>"
      ],
      "text/plain": [
       "           cpf      nome      sexo  idade  renda estado                  email\n",
       "7    132466721   WANESSA  feminino     19  22098     PR   wanessa0@hotmail.com\n",
       "8    753246858    MICAEL  feminino     48  33742     SP    micael2@hotmail.com\n",
       "10   313018047   CELEIDA  feminino     58  10782     TO   celeida7@hotmail.com\n",
       "16   953989648    JENEFE  feminino     26  14362     MG    jenefe6@hotmail.com\n",
       "17   549496525    ALLANE  feminino     34  24514     RJ    allane6@hotmail.com\n",
       "..         ...       ...       ...    ...    ...    ...                    ...\n",
       "607   34879512    EUNICI  feminino     25  22404     TO    eunici2@hotmail.com\n",
       "609   54161125   CAMYLLE  feminino     42  36811     MS   camylle2@hotmail.com\n",
       "610    3947638   KACIANE  feminino     38  33507     TO   kaciane4@hotmail.com\n",
       "614  388249629    ISALRA  feminino     30  28386     SP    isalra7@hotmail.com\n",
       "616  995998609  VANILDES  feminino     25  30025     MG  vanildes6@hotmail.com\n",
       "\n",
       "[276 rows x 7 columns]"
      ]
     },
     "execution_count": 36,
     "metadata": {},
     "output_type": "execute_result"
    }
   ],
   "source": [
    "clientes_femininos = df_clientes.loc[(df_clientes.sexo == 'feminino')]\n",
    "clientes_femininos"
   ]
  },
  {
   "cell_type": "code",
   "execution_count": 37,
   "id": "f9d4e938",
   "metadata": {},
   "outputs": [
    {
     "data": {
      "text/plain": [
       "276"
      ]
     },
     "execution_count": 37,
     "metadata": {},
     "output_type": "execute_result"
    }
   ],
   "source": [
    "cpfs_femininos = list(clientes_femininos['cpf'])\n",
    "len(cpfs_femininos)"
   ]
  },
  {
   "cell_type": "code",
   "execution_count": 38,
   "id": "65cceb63",
   "metadata": {},
   "outputs": [
    {
     "name": "stdout",
     "output_type": "stream",
     "text": [
      "419\n"
     ]
    }
   ],
   "source": [
    "cpfs_zara_femininos = []\n",
    "\n",
    "for i in range (len(cpfs_zara)):\n",
    "    if cpfs_zara[i] in cpfs_femininos:\n",
    "        cpfs_zara_femininos.append(cpfs_zara[i])\n",
    "\n",
    "print(len(cpfs_zara_femininos))"
   ]
  },
  {
   "cell_type": "code",
   "execution_count": 39,
   "id": "55e633e4",
   "metadata": {},
   "outputs": [
    {
     "data": {
      "text/html": [
       "<div>\n",
       "<style scoped>\n",
       "    .dataframe tbody tr th:only-of-type {\n",
       "        vertical-align: middle;\n",
       "    }\n",
       "\n",
       "    .dataframe tbody tr th {\n",
       "        vertical-align: top;\n",
       "    }\n",
       "\n",
       "    .dataframe thead th {\n",
       "        text-align: right;\n",
       "    }\n",
       "</style>\n",
       "<table border=\"1\" class=\"dataframe\">\n",
       "  <thead>\n",
       "    <tr style=\"text-align: right;\">\n",
       "      <th></th>\n",
       "      <th>id_tran</th>\n",
       "      <th>cpf</th>\n",
       "      <th>estabelecimento</th>\n",
       "      <th>valor</th>\n",
       "      <th>status</th>\n",
       "      <th>data</th>\n",
       "    </tr>\n",
       "  </thead>\n",
       "  <tbody>\n",
       "    <tr>\n",
       "      <th>3916</th>\n",
       "      <td>4877</td>\n",
       "      <td>137847973</td>\n",
       "      <td>zara analia fr</td>\n",
       "      <td>714</td>\n",
       "      <td>aprovada</td>\n",
       "      <td>May-20</td>\n",
       "    </tr>\n",
       "    <tr>\n",
       "      <th>3921</th>\n",
       "      <td>2144</td>\n",
       "      <td>650770868</td>\n",
       "      <td>zara analia fr</td>\n",
       "      <td>297</td>\n",
       "      <td>aprovada</td>\n",
       "      <td>Jan-20</td>\n",
       "    </tr>\n",
       "    <tr>\n",
       "      <th>3926</th>\n",
       "      <td>2631</td>\n",
       "      <td>178959876</td>\n",
       "      <td>zara analia fr</td>\n",
       "      <td>53</td>\n",
       "      <td>aprovada</td>\n",
       "      <td>Jan-20</td>\n",
       "    </tr>\n",
       "    <tr>\n",
       "      <th>3928</th>\n",
       "      <td>4007</td>\n",
       "      <td>426470187</td>\n",
       "      <td>zara analia fr</td>\n",
       "      <td>792</td>\n",
       "      <td>aprovada</td>\n",
       "      <td>Feb-20</td>\n",
       "    </tr>\n",
       "    <tr>\n",
       "      <th>3933</th>\n",
       "      <td>760</td>\n",
       "      <td>798466063</td>\n",
       "      <td>zara analia fr</td>\n",
       "      <td>423</td>\n",
       "      <td>aprovada</td>\n",
       "      <td>May-20</td>\n",
       "    </tr>\n",
       "    <tr>\n",
       "      <th>...</th>\n",
       "      <td>...</td>\n",
       "      <td>...</td>\n",
       "      <td>...</td>\n",
       "      <td>...</td>\n",
       "      <td>...</td>\n",
       "      <td>...</td>\n",
       "    </tr>\n",
       "    <tr>\n",
       "      <th>5219</th>\n",
       "      <td>1391</td>\n",
       "      <td>767585643</td>\n",
       "      <td>zara plazasul</td>\n",
       "      <td>293</td>\n",
       "      <td>aprovada</td>\n",
       "      <td>Jan-20</td>\n",
       "    </tr>\n",
       "    <tr>\n",
       "      <th>5222</th>\n",
       "      <td>3515</td>\n",
       "      <td>68159565</td>\n",
       "      <td>zara plazasul</td>\n",
       "      <td>631</td>\n",
       "      <td>aprovada</td>\n",
       "      <td>Apr-20</td>\n",
       "    </tr>\n",
       "    <tr>\n",
       "      <th>5223</th>\n",
       "      <td>3211</td>\n",
       "      <td>650770868</td>\n",
       "      <td>zara plazasul</td>\n",
       "      <td>310</td>\n",
       "      <td>aprovada</td>\n",
       "      <td>May-20</td>\n",
       "    </tr>\n",
       "    <tr>\n",
       "      <th>5226</th>\n",
       "      <td>2837</td>\n",
       "      <td>976981026</td>\n",
       "      <td>zara plazasul</td>\n",
       "      <td>226</td>\n",
       "      <td>aprovada</td>\n",
       "      <td>Feb-20</td>\n",
       "    </tr>\n",
       "    <tr>\n",
       "      <th>5227</th>\n",
       "      <td>3190</td>\n",
       "      <td>260846826</td>\n",
       "      <td>zara plazasul</td>\n",
       "      <td>246</td>\n",
       "      <td>aprovada</td>\n",
       "      <td>Apr-20</td>\n",
       "    </tr>\n",
       "  </tbody>\n",
       "</table>\n",
       "<p>419 rows × 6 columns</p>\n",
       "</div>"
      ],
      "text/plain": [
       "      id_tran        cpf estabelecimento  valor    status    data\n",
       "3916     4877  137847973  zara analia fr    714  aprovada  May-20\n",
       "3921     2144  650770868  zara analia fr    297  aprovada  Jan-20\n",
       "3926     2631  178959876  zara analia fr     53  aprovada  Jan-20\n",
       "3928     4007  426470187  zara analia fr    792  aprovada  Feb-20\n",
       "3933      760  798466063  zara analia fr    423  aprovada  May-20\n",
       "...       ...        ...             ...    ...       ...     ...\n",
       "5219     1391  767585643   zara plazasul    293  aprovada  Jan-20\n",
       "5222     3515   68159565   zara plazasul    631  aprovada  Apr-20\n",
       "5223     3211  650770868   zara plazasul    310  aprovada  May-20\n",
       "5226     2837  976981026   zara plazasul    226  aprovada  Feb-20\n",
       "5227     3190  260846826   zara plazasul    246  aprovada  Apr-20\n",
       "\n",
       "[419 rows x 6 columns]"
      ]
     },
     "execution_count": 39,
     "metadata": {},
     "output_type": "execute_result"
    }
   ],
   "source": [
    "df_zara_feminino = df_zara[df_zara.cpf.isin(cpfs_zara_femininos)]\n",
    "df_zara_feminino"
   ]
  },
  {
   "cell_type": "code",
   "execution_count": 40,
   "id": "0e7e2393",
   "metadata": {},
   "outputs": [
    {
     "data": {
      "text/plain": [
       "210124"
      ]
     },
     "execution_count": 40,
     "metadata": {},
     "output_type": "execute_result"
    }
   ],
   "source": [
    "df_zara_feminino['valor'].sum()"
   ]
  },
  {
   "cell_type": "markdown",
   "id": "57bd20d0",
   "metadata": {},
   "source": [
    "Assim, fica claro que foram feitas 419 compras por mulheres na Zara, totalizando 210124 reais."
   ]
  },
  {
   "cell_type": "markdown",
   "id": "1c711575",
   "metadata": {},
   "source": [
    "##### 6.    Qual o perfil das pessoas que mais curtem a página do Itaú? Sexo, idade, renda, estado... "
   ]
  },
  {
   "cell_type": "code",
   "execution_count": 41,
   "id": "c6ea0fd7",
   "metadata": {},
   "outputs": [
    {
     "data": {
      "text/html": [
       "<div>\n",
       "<style scoped>\n",
       "    .dataframe tbody tr th:only-of-type {\n",
       "        vertical-align: middle;\n",
       "    }\n",
       "\n",
       "    .dataframe tbody tr th {\n",
       "        vertical-align: top;\n",
       "    }\n",
       "\n",
       "    .dataframe thead th {\n",
       "        text-align: right;\n",
       "    }\n",
       "</style>\n",
       "<table border=\"1\" class=\"dataframe\">\n",
       "  <thead>\n",
       "    <tr style=\"text-align: right;\">\n",
       "      <th></th>\n",
       "      <th>email</th>\n",
       "      <th>pagina</th>\n",
       "      <th>rede_social</th>\n",
       "    </tr>\n",
       "  </thead>\n",
       "  <tbody>\n",
       "    <tr>\n",
       "      <th>5</th>\n",
       "      <td>henrique5@hotmail.com</td>\n",
       "      <td>Itaú</td>\n",
       "      <td>facebook</td>\n",
       "    </tr>\n",
       "    <tr>\n",
       "      <th>7</th>\n",
       "      <td>alcione4@hotmail.com</td>\n",
       "      <td>Itaú</td>\n",
       "      <td>instagram</td>\n",
       "    </tr>\n",
       "    <tr>\n",
       "      <th>18</th>\n",
       "      <td>adenilsa9@hotmail.com</td>\n",
       "      <td>Itaú</td>\n",
       "      <td>facebook</td>\n",
       "    </tr>\n",
       "    <tr>\n",
       "      <th>19</th>\n",
       "      <td>natividade8@hotmail.com</td>\n",
       "      <td>Itaú</td>\n",
       "      <td>instagram</td>\n",
       "    </tr>\n",
       "    <tr>\n",
       "      <th>27</th>\n",
       "      <td>jacineide7@hotmail.com</td>\n",
       "      <td>Itaú</td>\n",
       "      <td>instagram</td>\n",
       "    </tr>\n",
       "    <tr>\n",
       "      <th>...</th>\n",
       "      <td>...</td>\n",
       "      <td>...</td>\n",
       "      <td>...</td>\n",
       "    </tr>\n",
       "    <tr>\n",
       "      <th>2418</th>\n",
       "      <td>jorge6@hotmail.com</td>\n",
       "      <td>Itaú</td>\n",
       "      <td>facebook</td>\n",
       "    </tr>\n",
       "    <tr>\n",
       "      <th>2422</th>\n",
       "      <td>fabriciano1@hotmail.com</td>\n",
       "      <td>Itaú</td>\n",
       "      <td>facebook</td>\n",
       "    </tr>\n",
       "    <tr>\n",
       "      <th>2437</th>\n",
       "      <td>jhony6@hotmail.com</td>\n",
       "      <td>Itaú</td>\n",
       "      <td>instagram</td>\n",
       "    </tr>\n",
       "    <tr>\n",
       "      <th>2446</th>\n",
       "      <td>walyson6@hotmail.com</td>\n",
       "      <td>Itaú</td>\n",
       "      <td>instagram</td>\n",
       "    </tr>\n",
       "    <tr>\n",
       "      <th>2451</th>\n",
       "      <td>lincoln8@hotmail.com</td>\n",
       "      <td>Itaú</td>\n",
       "      <td>facebook</td>\n",
       "    </tr>\n",
       "  </tbody>\n",
       "</table>\n",
       "<p>341 rows × 3 columns</p>\n",
       "</div>"
      ],
      "text/plain": [
       "                        email pagina rede_social\n",
       "5       henrique5@hotmail.com   Itaú    facebook\n",
       "7        alcione4@hotmail.com   Itaú   instagram\n",
       "18      adenilsa9@hotmail.com   Itaú    facebook\n",
       "19    natividade8@hotmail.com   Itaú   instagram\n",
       "27     jacineide7@hotmail.com   Itaú   instagram\n",
       "...                       ...    ...         ...\n",
       "2418       jorge6@hotmail.com   Itaú    facebook\n",
       "2422  fabriciano1@hotmail.com   Itaú    facebook\n",
       "2437       jhony6@hotmail.com   Itaú   instagram\n",
       "2446     walyson6@hotmail.com   Itaú   instagram\n",
       "2451     lincoln8@hotmail.com   Itaú    facebook\n",
       "\n",
       "[341 rows x 3 columns]"
      ]
     },
     "execution_count": 41,
     "metadata": {},
     "output_type": "execute_result"
    }
   ],
   "source": [
    "df_redesocial_itau = df_redesocial.loc[(df_redesocial.pagina == 'Itaú')]\n",
    "df_redesocial_itau"
   ]
  },
  {
   "cell_type": "code",
   "execution_count": 42,
   "id": "3df905be",
   "metadata": {},
   "outputs": [
    {
     "data": {
      "text/plain": [
       "341"
      ]
     },
     "execution_count": 42,
     "metadata": {},
     "output_type": "execute_result"
    }
   ],
   "source": [
    "emails_itau = list(df_redesocial_itau['email'])\n",
    "len(emails_itau)"
   ]
  },
  {
   "cell_type": "code",
   "execution_count": 43,
   "id": "3eac0813",
   "metadata": {},
   "outputs": [
    {
     "data": {
      "text/html": [
       "<div>\n",
       "<style scoped>\n",
       "    .dataframe tbody tr th:only-of-type {\n",
       "        vertical-align: middle;\n",
       "    }\n",
       "\n",
       "    .dataframe tbody tr th {\n",
       "        vertical-align: top;\n",
       "    }\n",
       "\n",
       "    .dataframe thead th {\n",
       "        text-align: right;\n",
       "    }\n",
       "</style>\n",
       "<table border=\"1\" class=\"dataframe\">\n",
       "  <thead>\n",
       "    <tr style=\"text-align: right;\">\n",
       "      <th></th>\n",
       "      <th>cpf</th>\n",
       "      <th>nome</th>\n",
       "      <th>sexo</th>\n",
       "      <th>idade</th>\n",
       "      <th>renda</th>\n",
       "      <th>estado</th>\n",
       "      <th>email</th>\n",
       "    </tr>\n",
       "  </thead>\n",
       "  <tbody>\n",
       "    <tr>\n",
       "      <th>0</th>\n",
       "      <td>755077935</td>\n",
       "      <td>WELINTOM</td>\n",
       "      <td>masculino</td>\n",
       "      <td>30</td>\n",
       "      <td>14915</td>\n",
       "      <td>RS</td>\n",
       "      <td>welintom3@hotmail.com</td>\n",
       "    </tr>\n",
       "    <tr>\n",
       "      <th>1</th>\n",
       "      <td>338048902</td>\n",
       "      <td>CLEIDIOMAR</td>\n",
       "      <td>masculino</td>\n",
       "      <td>28</td>\n",
       "      <td>18322</td>\n",
       "      <td>SP</td>\n",
       "      <td>cleidiomar5@hotmail.com</td>\n",
       "    </tr>\n",
       "    <tr>\n",
       "      <th>4</th>\n",
       "      <td>574079717</td>\n",
       "      <td>GERALD</td>\n",
       "      <td>masculino</td>\n",
       "      <td>46</td>\n",
       "      <td>35234</td>\n",
       "      <td>MG</td>\n",
       "      <td>gerald5@hotmail.com</td>\n",
       "    </tr>\n",
       "    <tr>\n",
       "      <th>5</th>\n",
       "      <td>40703137</td>\n",
       "      <td>LINCOLN</td>\n",
       "      <td>masculino</td>\n",
       "      <td>53</td>\n",
       "      <td>34094</td>\n",
       "      <td>MG</td>\n",
       "      <td>lincoln8@hotmail.com</td>\n",
       "    </tr>\n",
       "    <tr>\n",
       "      <th>7</th>\n",
       "      <td>132466721</td>\n",
       "      <td>WANESSA</td>\n",
       "      <td>feminino</td>\n",
       "      <td>19</td>\n",
       "      <td>22098</td>\n",
       "      <td>PR</td>\n",
       "      <td>wanessa0@hotmail.com</td>\n",
       "    </tr>\n",
       "    <tr>\n",
       "      <th>...</th>\n",
       "      <td>...</td>\n",
       "      <td>...</td>\n",
       "      <td>...</td>\n",
       "      <td>...</td>\n",
       "      <td>...</td>\n",
       "      <td>...</td>\n",
       "      <td>...</td>\n",
       "    </tr>\n",
       "    <tr>\n",
       "      <th>613</th>\n",
       "      <td>109123843</td>\n",
       "      <td>GUIHERME</td>\n",
       "      <td>masculino</td>\n",
       "      <td>60</td>\n",
       "      <td>17588</td>\n",
       "      <td>SP</td>\n",
       "      <td>guiherme6@hotmail.com</td>\n",
       "    </tr>\n",
       "    <tr>\n",
       "      <th>615</th>\n",
       "      <td>317703130</td>\n",
       "      <td>DIOCLESIO</td>\n",
       "      <td>masculino</td>\n",
       "      <td>53</td>\n",
       "      <td>16285</td>\n",
       "      <td>RS</td>\n",
       "      <td>dioclesio2@hotmail.com</td>\n",
       "    </tr>\n",
       "    <tr>\n",
       "      <th>616</th>\n",
       "      <td>995998609</td>\n",
       "      <td>VANILDES</td>\n",
       "      <td>feminino</td>\n",
       "      <td>25</td>\n",
       "      <td>30025</td>\n",
       "      <td>MG</td>\n",
       "      <td>vanildes6@hotmail.com</td>\n",
       "    </tr>\n",
       "    <tr>\n",
       "      <th>617</th>\n",
       "      <td>59310922</td>\n",
       "      <td>LEDILSON</td>\n",
       "      <td>masculino</td>\n",
       "      <td>50</td>\n",
       "      <td>18653</td>\n",
       "      <td>SP</td>\n",
       "      <td>ledilson4@hotmail.com</td>\n",
       "    </tr>\n",
       "    <tr>\n",
       "      <th>620</th>\n",
       "      <td>405964521</td>\n",
       "      <td>DIONATAM</td>\n",
       "      <td>masculino</td>\n",
       "      <td>42</td>\n",
       "      <td>27911</td>\n",
       "      <td>RS</td>\n",
       "      <td>dionatam0@hotmail.com</td>\n",
       "    </tr>\n",
       "  </tbody>\n",
       "</table>\n",
       "<p>266 rows × 7 columns</p>\n",
       "</div>"
      ],
      "text/plain": [
       "           cpf        nome       sexo  idade  renda estado  \\\n",
       "0    755077935    WELINTOM  masculino     30  14915     RS   \n",
       "1    338048902  CLEIDIOMAR  masculino     28  18322     SP   \n",
       "4    574079717      GERALD  masculino     46  35234     MG   \n",
       "5     40703137     LINCOLN  masculino     53  34094     MG   \n",
       "7    132466721     WANESSA   feminino     19  22098     PR   \n",
       "..         ...         ...        ...    ...    ...    ...   \n",
       "613  109123843    GUIHERME  masculino     60  17588     SP   \n",
       "615  317703130   DIOCLESIO  masculino     53  16285     RS   \n",
       "616  995998609    VANILDES   feminino     25  30025     MG   \n",
       "617   59310922    LEDILSON  masculino     50  18653     SP   \n",
       "620  405964521    DIONATAM  masculino     42  27911     RS   \n",
       "\n",
       "                       email  \n",
       "0      welintom3@hotmail.com  \n",
       "1    cleidiomar5@hotmail.com  \n",
       "4        gerald5@hotmail.com  \n",
       "5       lincoln8@hotmail.com  \n",
       "7       wanessa0@hotmail.com  \n",
       "..                       ...  \n",
       "613    guiherme6@hotmail.com  \n",
       "615   dioclesio2@hotmail.com  \n",
       "616    vanildes6@hotmail.com  \n",
       "617    ledilson4@hotmail.com  \n",
       "620    dionatam0@hotmail.com  \n",
       "\n",
       "[266 rows x 7 columns]"
      ]
     },
     "execution_count": 43,
     "metadata": {},
     "output_type": "execute_result"
    }
   ],
   "source": [
    "df_perfil_itau = df_clientes[df_clientes.email.isin(emails_itau)]\n",
    "df_perfil_itau"
   ]
  },
  {
   "cell_type": "code",
   "execution_count": 44,
   "id": "cc144fe7",
   "metadata": {},
   "outputs": [
    {
     "data": {
      "text/plain": [
       "sexo\n",
       "feminino     144\n",
       "masculino    122\n",
       "dtype: int64"
      ]
     },
     "execution_count": 44,
     "metadata": {},
     "output_type": "execute_result"
    }
   ],
   "source": [
    "sexo_itau = df_perfil_itau.groupby(['sexo']).size()\n",
    "sexo_itau"
   ]
  },
  {
   "cell_type": "code",
   "execution_count": 45,
   "id": "3a62007c",
   "metadata": {},
   "outputs": [
    {
     "data": {
      "text/plain": [
       "<AxesSubplot:xlabel='sexo'>"
      ]
     },
     "execution_count": 45,
     "metadata": {},
     "output_type": "execute_result"
    },
    {
     "data": {
      "image/png": "[encoded data removed]",
      "text/plain": [
       "<Figure size 432x288 with 1 Axes>"
      ]
     },
     "metadata": {
      "needs_background": "light"
     },
     "output_type": "display_data"
    }
   ],
   "source": [
    "sexo_itau.plot.bar(color = 'gray')"
   ]
  },
  {
   "cell_type": "code",
   "execution_count": 46,
   "id": "8a048ccb",
   "metadata": {},
   "outputs": [
    {
     "data": {
      "text/plain": [
       "count    266.000000\n",
       "mean      38.981203\n",
       "std       12.508549\n",
       "min       18.000000\n",
       "25%       28.000000\n",
       "50%       39.000000\n",
       "75%       50.000000\n",
       "max       60.000000\n",
       "Name: idade, dtype: float64"
      ]
     },
     "execution_count": 46,
     "metadata": {},
     "output_type": "execute_result"
    }
   ],
   "source": [
    "df_perfil_itau['idade'].describe()"
   ]
  },
  {
   "cell_type": "code",
   "execution_count": 47,
   "id": "ef5f4c5c",
   "metadata": {},
   "outputs": [
    {
     "data": {
      "text/plain": [
       "Text(0.5, 1.0, 'Idade')"
      ]
     },
     "execution_count": 47,
     "metadata": {},
     "output_type": "execute_result"
    },
    {
     "data": {
      "image/png": "[encoded data removed]",
      "text/plain": [
       "<Figure size 432x288 with 1 Axes>"
      ]
     },
     "metadata": {
      "needs_background": "light"
     },
     "output_type": "display_data"
    }
   ],
   "source": [
    "srn.histplot(df_perfil_itau['idade'], color = \"grey\").set_title('Idade')"
   ]
  },
  {
   "cell_type": "code",
   "execution_count": 48,
   "id": "6975c9f4",
   "metadata": {},
   "outputs": [
    {
     "data": {
      "text/plain": [
       "count      266.000000\n",
       "mean     25221.018797\n",
       "std       8416.884225\n",
       "min      10133.000000\n",
       "25%      18366.750000\n",
       "50%      25737.000000\n",
       "75%      32131.750000\n",
       "max      39961.000000\n",
       "Name: renda, dtype: float64"
      ]
     },
     "execution_count": 48,
     "metadata": {},
     "output_type": "execute_result"
    }
   ],
   "source": [
    "df_perfil_itau['renda'].describe()"
   ]
  },
  {
   "cell_type": "code",
   "execution_count": 49,
   "id": "bfb011a9",
   "metadata": {},
   "outputs": [
    {
     "data": {
      "text/plain": [
       "Text(0.5, 1.0, 'Renda')"
      ]
     },
     "execution_count": 49,
     "metadata": {},
     "output_type": "execute_result"
    },
    {
     "data": {
      "image/png": "[encoded data removed]",
      "text/plain": [
       "<Figure size 432x288 with 1 Axes>"
      ]
     },
     "metadata": {
      "needs_background": "light"
     },
     "output_type": "display_data"
    }
   ],
   "source": [
    "srn.histplot(df_perfil_itau['renda'], color = \"grey\").set_title('Renda')"
   ]
  },
  {
   "cell_type": "code",
   "execution_count": 50,
   "id": "6e834320",
   "metadata": {},
   "outputs": [
    {
     "data": {
      "text/plain": [
       "estado\n",
       "MG    47\n",
       "MS    27\n",
       "PR    26\n",
       "RJ    51\n",
       "RS    23\n",
       "SP    66\n",
       "TO    26\n",
       "dtype: int64"
      ]
     },
     "execution_count": 50,
     "metadata": {},
     "output_type": "execute_result"
    }
   ],
   "source": [
    "estados_itau = df_perfil_itau.groupby(['estado']).size()\n",
    "estados_itau"
   ]
  },
  {
   "cell_type": "code",
   "execution_count": 51,
   "id": "aa573911",
   "metadata": {},
   "outputs": [
    {
     "data": {
      "text/plain": [
       "<AxesSubplot:xlabel='estado'>"
      ]
     },
     "execution_count": 51,
     "metadata": {},
     "output_type": "execute_result"
    },
    {
     "data": {
      "image/png": "[encoded data removed]",
      "text/plain": [
       "<Figure size 432x288 with 1 Axes>"
      ]
     },
     "metadata": {
      "needs_background": "light"
     },
     "output_type": "display_data"
    }
   ],
   "source": [
    "estados_itau.plot.bar(color = 'gray')"
   ]
  },
  {
   "cell_type": "markdown",
   "id": "eb2bdc9d",
   "metadata": {},
   "source": [
    "O perfil das pessoas que mais curtem a página do Itaú são mulheres, pessoas de idade média aproximada de 39 anos, renda média 25221, e a maioria do estado de SP."
   ]
  }
 ],
 "metadata": {
  "kernelspec": {
   "display_name": "Python 3 (ipykernel)",
   "language": "python",
   "name": "python3"
  },
  "language_info": {
   "codemirror_mode": {
    "name": "ipython",
    "version": 3
   },
   "file_extension": ".py",
   "mimetype": "text/x-python",
   "name": "python",
   "nbconvert_exporter": "python",
   "pygments_lexer": "ipython3",
   "version": "3.8.8"
  }
 },
 "nbformat": 4,
 "nbformat_minor": 5
}
